{
 "cells": [
  {
   "cell_type": "code",
   "execution_count": 6,
   "id": "4c6f276e",
   "metadata": {},
   "outputs": [
    {
     "name": "stdout",
     "output_type": "stream",
     "text": [
      "Merged CSV written to 'nepse_merged.csv'\n"
     ]
    }
   ],
   "source": [
    "import pandas as pd\n",
    "\n",
    "# Read the first CSV (NEPSE historical data 2022)\n",
    "df1 = pd.read_csv(r'C:\\Users\\baral\\AppData\\Local\\Temp\\7839d06c-e35e-499a-9f23-8ffaf28e58e7_archive.zip.8e7\\nepse_index_history.csv')\n",
    "# Standardize and rename columns\n",
    "df1 = df1.rename(columns={\n",
    "    'date': 'Date',\n",
    "    'open': 'Open',\n",
    "    'high': 'High',\n",
    "    'low': 'Low',\n",
    "    'close': 'Close',\n",
    "    'pct_change': 'Percent Change',\n",
    "    'turnover': 'Volume'\n",
    "})\n",
    "# Add Symbol column (CSV1 has no symbol column)\n",
    "df1['Symbol'] = 'NEPSE'\n",
    "# Reorder columns to match CSV2\n",
    "df1 = df1[['Symbol', 'Date', 'Open', 'High', 'Low', 'Close', 'Percent Change', 'Volume']]\n",
    "\n",
    "# Read the second CSV (NEPSE recent data 2025)\n",
    "df2 = pd.read_csv(r'C:\\Users\\baral\\Downloads\\nepsealpha_export_price_NEPSE_2022-07-23_2025-04-20.csv')\n",
    "# Clean the Percent Change column (remove percent sign and convert to float)\n",
    "df2['Percent Change'] = df2['Percent Change'].str.rstrip(' %').astype(float)\n",
    "\n",
    "# Concatenate both DataFrames\n",
    "merged = pd.concat([df1, df2], ignore_index=True)\n",
    "\n",
    "# Convert Date to datetime and sort chronologically\n",
    "merged['Date'] = pd.to_datetime(merged['Date'])\n",
    "merged = merged.sort_values('Date', ascending=False)\n",
    "\n",
    "# Save the merged result\n",
    "merged.to_csv('nepse_merged.csv', index=False)\n",
    "\n",
    "print(\"Merged CSV written to 'nepse_merged.csv'\")\n"
   ]
  }
 ],
 "metadata": {
  "kernelspec": {
   "display_name": "myenv",
   "language": "python",
   "name": "python3"
  },
  "language_info": {
   "codemirror_mode": {
    "name": "ipython",
    "version": 3
   },
   "file_extension": ".py",
   "mimetype": "text/x-python",
   "name": "python",
   "nbconvert_exporter": "python",
   "pygments_lexer": "ipython3",
   "version": "3.12.7"
  }
 },
 "nbformat": 4,
 "nbformat_minor": 5
}
