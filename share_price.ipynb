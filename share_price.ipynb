{
 "cells": [
  {
   "cell_type": "code",
   "execution_count": 5,
   "metadata": {},
   "outputs": [],
   "source": [
    "import numpy as np\n",
    "import pandas as pd\n",
    "import matplotlib.pyplot as plt\n",
    "import seaborn as sns"
   ]
  },
  {
   "cell_type": "code",
   "execution_count": 6,
   "metadata": {},
   "outputs": [],
   "source": [
    "%store -r share_name"
   ]
  },
  {
   "cell_type": "code",
   "execution_count": 7,
   "metadata": {},
   "outputs": [],
   "source": [
    "df = pd.read_csv(f'company/{share_name}.csv')"
   ]
  },
  {
   "cell_type": "code",
   "execution_count": 8,
   "metadata": {},
   "outputs": [
    {
     "data": {
      "text/plain": [
       "'USLB'"
      ]
     },
     "execution_count": 8,
     "metadata": {},
     "output_type": "execute_result"
    }
   ],
   "source": [
    "share_name"
   ]
  },
  {
   "cell_type": "code",
   "execution_count": 9,
   "metadata": {},
   "outputs": [
    {
     "data": {
      "text/html": [
       "<div>\n",
       "<style scoped>\n",
       "    .dataframe tbody tr th:only-of-type {\n",
       "        vertical-align: middle;\n",
       "    }\n",
       "\n",
       "    .dataframe tbody tr th {\n",
       "        vertical-align: top;\n",
       "    }\n",
       "\n",
       "    .dataframe thead th {\n",
       "        text-align: right;\n",
       "    }\n",
       "</style>\n",
       "<table border=\"1\" class=\"dataframe\">\n",
       "  <thead>\n",
       "    <tr style=\"text-align: right;\">\n",
       "      <th></th>\n",
       "      <th>SN</th>\n",
       "      <th>Date</th>\n",
       "      <th>LTP</th>\n",
       "      <th>%change</th>\n",
       "      <th>High</th>\n",
       "      <th>Low</th>\n",
       "      <th>Open</th>\n",
       "      <th>Qty.</th>\n",
       "      <th>Turnover</th>\n",
       "    </tr>\n",
       "  </thead>\n",
       "  <tbody>\n",
       "    <tr>\n",
       "      <th>0</th>\n",
       "      <td>1</td>\n",
       "      <td>2023/12/21</td>\n",
       "      <td>792.00</td>\n",
       "      <td>-7.26</td>\n",
       "      <td>840.00</td>\n",
       "      <td>791.00</td>\n",
       "      <td>840.00</td>\n",
       "      <td>3,505</td>\n",
       "      <td>2,818,082.70</td>\n",
       "    </tr>\n",
       "    <tr>\n",
       "      <th>1</th>\n",
       "      <td>2</td>\n",
       "      <td>2023/12/20</td>\n",
       "      <td>854.00</td>\n",
       "      <td>7.83</td>\n",
       "      <td>857.00</td>\n",
       "      <td>737.50</td>\n",
       "      <td>777.00</td>\n",
       "      <td>4,700</td>\n",
       "      <td>3,777,203.50</td>\n",
       "    </tr>\n",
       "    <tr>\n",
       "      <th>2</th>\n",
       "      <td>3</td>\n",
       "      <td>2023/12/19</td>\n",
       "      <td>792.00</td>\n",
       "      <td>10.00</td>\n",
       "      <td>792.00</td>\n",
       "      <td>703.00</td>\n",
       "      <td>718.00</td>\n",
       "      <td>3,042</td>\n",
       "      <td>2,206,472.10</td>\n",
       "    </tr>\n",
       "    <tr>\n",
       "      <th>3</th>\n",
       "      <td>4</td>\n",
       "      <td>2023/12/17</td>\n",
       "      <td>675.00</td>\n",
       "      <td>-1.96</td>\n",
       "      <td>700.00</td>\n",
       "      <td>660.00</td>\n",
       "      <td>700.00</td>\n",
       "      <td>1,595</td>\n",
       "      <td>1,062,728.50</td>\n",
       "    </tr>\n",
       "    <tr>\n",
       "      <th>4</th>\n",
       "      <td>5</td>\n",
       "      <td>2023/12/14</td>\n",
       "      <td>688.50</td>\n",
       "      <td>-2.75</td>\n",
       "      <td>721.00</td>\n",
       "      <td>656.00</td>\n",
       "      <td>721.00</td>\n",
       "      <td>3,568</td>\n",
       "      <td>2,386,841.80</td>\n",
       "    </tr>\n",
       "  </tbody>\n",
       "</table>\n",
       "</div>"
      ],
      "text/plain": [
       "   SN        Date     LTP  %change    High     Low    Open   Qty.  \\\n",
       "0   1  2023/12/21  792.00    -7.26  840.00  791.00  840.00  3,505   \n",
       "1   2  2023/12/20  854.00     7.83  857.00  737.50  777.00  4,700   \n",
       "2   3  2023/12/19  792.00    10.00  792.00  703.00  718.00  3,042   \n",
       "3   4  2023/12/17  675.00    -1.96  700.00  660.00  700.00  1,595   \n",
       "4   5  2023/12/14  688.50    -2.75  721.00  656.00  721.00  3,568   \n",
       "\n",
       "       Turnover  \n",
       "0  2,818,082.70  \n",
       "1  3,777,203.50  \n",
       "2  2,206,472.10  \n",
       "3  1,062,728.50  \n",
       "4  2,386,841.80  "
      ]
     },
     "execution_count": 9,
     "metadata": {},
     "output_type": "execute_result"
    }
   ],
   "source": [
    "df.head()"
   ]
  },
  {
   "cell_type": "code",
   "execution_count": 10,
   "metadata": {},
   "outputs": [],
   "source": [
    "# remove the comlun with name\n",
    "df = df.drop(['SN'], axis=1)\n",
    "\n",
    "\n"
   ]
  },
  {
   "cell_type": "code",
   "execution_count": 11,
   "metadata": {},
   "outputs": [
    {
     "data": {
      "text/plain": [
       "Date         object\n",
       "LTP          object\n",
       "%change     float64\n",
       "High         object\n",
       "Low          object\n",
       "Open         object\n",
       "Qty.         object\n",
       "Turnover     object\n",
       "dtype: object"
      ]
     },
     "execution_count": 11,
     "metadata": {},
     "output_type": "execute_result"
    }
   ],
   "source": [
    "# check the data type\n",
    "df.dtypes"
   ]
  },
  {
   "cell_type": "code",
   "execution_count": 12,
   "metadata": {},
   "outputs": [
    {
     "data": {
      "text/plain": [
       "(0       3505.0\n",
       " 1       4700.0\n",
       " 2       3042.0\n",
       " 3       1595.0\n",
       " 4       3568.0\n",
       "         ...   \n",
       " 765    17949.0\n",
       " 766      574.0\n",
       " 767      730.0\n",
       " 768       76.0\n",
       " 769       79.0\n",
       " Name: Qty., Length: 770, dtype: float64,\n",
       " 0       2818082.7\n",
       " 1       3777203.5\n",
       " 2       2206472.1\n",
       " 3       1062728.5\n",
       " 4       2386841.8\n",
       "           ...    \n",
       " 765    19530624.0\n",
       " 766      570794.0\n",
       " 767      660684.0\n",
       " 768       61352.0\n",
       " 769       56898.0\n",
       " Name: Turnover, Length: 770, dtype: float64)"
      ]
     },
     "execution_count": 12,
     "metadata": {},
     "output_type": "execute_result"
    }
   ],
   "source": [
    "# make the qty and turnover to float\n",
    "df['Qty.'] = df['Qty.'].replace(',','', regex=True).astype(float)\n",
    "df['Turnover'] = df['Turnover'].replace(',','', regex=True).astype(float)\n",
    "df['LTP'] = df['LTP'].replace(',','', regex=True).astype(float)\n",
    "df['Open'] = df['Open'].replace(',','', regex=True).astype(float)\n",
    "df['High'] = df['High'].replace(',','', regex=True).astype(float)\n",
    "df['Low'] = df['Low'].replace(',','', regex=True).astype(float)\n",
    "df['Qty.'], df['Turnover']"
   ]
  },
  {
   "cell_type": "code",
   "execution_count": 13,
   "metadata": {},
   "outputs": [
    {
     "data": {
      "text/plain": [
       "Date         object\n",
       "LTP         float64\n",
       "%change     float64\n",
       "High        float64\n",
       "Low         float64\n",
       "Open        float64\n",
       "Qty.        float64\n",
       "Turnover    float64\n",
       "dtype: object"
      ]
     },
     "execution_count": 13,
     "metadata": {},
     "output_type": "execute_result"
    }
   ],
   "source": [
    "df.dtypes"
   ]
  },
  {
   "cell_type": "code",
   "execution_count": 14,
   "metadata": {},
   "outputs": [
    {
     "data": {
      "text/html": [
       "<div>\n",
       "<style scoped>\n",
       "    .dataframe tbody tr th:only-of-type {\n",
       "        vertical-align: middle;\n",
       "    }\n",
       "\n",
       "    .dataframe tbody tr th {\n",
       "        vertical-align: top;\n",
       "    }\n",
       "\n",
       "    .dataframe thead th {\n",
       "        text-align: right;\n",
       "    }\n",
       "</style>\n",
       "<table border=\"1\" class=\"dataframe\">\n",
       "  <thead>\n",
       "    <tr style=\"text-align: right;\">\n",
       "      <th></th>\n",
       "      <th>Date</th>\n",
       "      <th>LTP</th>\n",
       "      <th>%change</th>\n",
       "      <th>High</th>\n",
       "      <th>Low</th>\n",
       "      <th>Open</th>\n",
       "      <th>Qty.</th>\n",
       "      <th>Turnover</th>\n",
       "    </tr>\n",
       "  </thead>\n",
       "  <tbody>\n",
       "    <tr>\n",
       "      <th>0</th>\n",
       "      <td>2023/12/21</td>\n",
       "      <td>792.0</td>\n",
       "      <td>-7.26</td>\n",
       "      <td>840.0</td>\n",
       "      <td>791.0</td>\n",
       "      <td>840.0</td>\n",
       "      <td>3505.0</td>\n",
       "      <td>2818082.7</td>\n",
       "    </tr>\n",
       "    <tr>\n",
       "      <th>1</th>\n",
       "      <td>2023/12/20</td>\n",
       "      <td>854.0</td>\n",
       "      <td>7.83</td>\n",
       "      <td>857.0</td>\n",
       "      <td>737.5</td>\n",
       "      <td>777.0</td>\n",
       "      <td>4700.0</td>\n",
       "      <td>3777203.5</td>\n",
       "    </tr>\n",
       "    <tr>\n",
       "      <th>2</th>\n",
       "      <td>2023/12/19</td>\n",
       "      <td>792.0</td>\n",
       "      <td>10.00</td>\n",
       "      <td>792.0</td>\n",
       "      <td>703.0</td>\n",
       "      <td>718.0</td>\n",
       "      <td>3042.0</td>\n",
       "      <td>2206472.1</td>\n",
       "    </tr>\n",
       "    <tr>\n",
       "      <th>3</th>\n",
       "      <td>2023/12/17</td>\n",
       "      <td>675.0</td>\n",
       "      <td>-1.96</td>\n",
       "      <td>700.0</td>\n",
       "      <td>660.0</td>\n",
       "      <td>700.0</td>\n",
       "      <td>1595.0</td>\n",
       "      <td>1062728.5</td>\n",
       "    </tr>\n",
       "    <tr>\n",
       "      <th>4</th>\n",
       "      <td>2023/12/14</td>\n",
       "      <td>688.5</td>\n",
       "      <td>-2.75</td>\n",
       "      <td>721.0</td>\n",
       "      <td>656.0</td>\n",
       "      <td>721.0</td>\n",
       "      <td>3568.0</td>\n",
       "      <td>2386841.8</td>\n",
       "    </tr>\n",
       "  </tbody>\n",
       "</table>\n",
       "</div>"
      ],
      "text/plain": [
       "         Date    LTP  %change   High    Low   Open    Qty.   Turnover\n",
       "0  2023/12/21  792.0    -7.26  840.0  791.0  840.0  3505.0  2818082.7\n",
       "1  2023/12/20  854.0     7.83  857.0  737.5  777.0  4700.0  3777203.5\n",
       "2  2023/12/19  792.0    10.00  792.0  703.0  718.0  3042.0  2206472.1\n",
       "3  2023/12/17  675.0    -1.96  700.0  660.0  700.0  1595.0  1062728.5\n",
       "4  2023/12/14  688.5    -2.75  721.0  656.0  721.0  3568.0  2386841.8"
      ]
     },
     "execution_count": 14,
     "metadata": {},
     "output_type": "execute_result"
    }
   ],
   "source": [
    "df.head()"
   ]
  },
  {
   "cell_type": "code",
   "execution_count": 15,
   "metadata": {},
   "outputs": [],
   "source": [
    "df['Date'] = pd.to_datetime(df['Date'])"
   ]
  },
  {
   "cell_type": "code",
   "execution_count": 16,
   "metadata": {},
   "outputs": [
    {
     "data": {
      "text/plain": [
       "0     2023-12-21\n",
       "1     2023-12-20\n",
       "2     2023-12-19\n",
       "3     2023-12-17\n",
       "4     2023-12-14\n",
       "         ...    \n",
       "765   2020-09-07\n",
       "766   2020-09-06\n",
       "767   2020-09-03\n",
       "768   2020-09-02\n",
       "769   2020-08-31\n",
       "Name: Date, Length: 770, dtype: datetime64[ns]"
      ]
     },
     "execution_count": 16,
     "metadata": {},
     "output_type": "execute_result"
    }
   ],
   "source": [
    "df['Date']"
   ]
  },
  {
   "cell_type": "code",
   "execution_count": 17,
   "metadata": {},
   "outputs": [
    {
     "data": {
      "image/png": "[encoded data removed]",
      "text/plain": [
       "<Figure size 720x576 with 2 Axes>"
      ]
     },
     "metadata": {
      "needs_background": "light"
     },
     "output_type": "display_data"
    }
   ],
   "source": [
    "plt.figure(figsize=(10, 8))\n",
    "sns.heatmap(df.corr(), annot=True, cmap='coolwarm', fmt=\".2f\")\n",
    "plt.title('Correlation Matrix')\n",
    "plt.show()"
   ]
  },
  {
   "cell_type": "code",
   "execution_count": 18,
   "metadata": {},
   "outputs": [
    {
     "data": {
      "image/png": "[encoded data removed]",
      "text/plain": [
       "<Figure size 1152x576 with 1 Axes>"
      ]
     },
     "metadata": {
      "needs_background": "light"
     },
     "output_type": "display_data"
    }
   ],
   "source": [
    "# Plotting \"Date\" against \"LTP\"-Last Trade Price\n",
    "plt.figure(figsize=(16,8))\n",
    "plt.title('Stock Price Over Time')\n",
    "plt.xlabel('Date', fontsize=18)\n",
    "plt.ylabel('LTP', fontsize=18)\n",
    "plt.plot(df['Date'], df['LTP'])\n",
    "plt.show()\n",
    "\n"
   ]
  },
  {
   "cell_type": "code",
   "execution_count": 19,
   "metadata": {},
   "outputs": [
    {
     "data": {
      "text/plain": [
       "0      -7.26\n",
       "1       7.83\n",
       "2      10.00\n",
       "3      -1.96\n",
       "4      -2.75\n",
       "       ...  \n",
       "765     9.91\n",
       "766     9.90\n",
       "767     9.92\n",
       "768     9.97\n",
       "769     9.94\n",
       "Name: %change, Length: 770, dtype: float64"
      ]
     },
     "execution_count": 19,
     "metadata": {},
     "output_type": "execute_result"
    }
   ],
   "source": [
    "df['%change']"
   ]
  },
  {
   "cell_type": "code",
   "execution_count": 20,
   "metadata": {},
   "outputs": [],
   "source": [
    "df['Month'] = df['Date'].dt.month"
   ]
  },
  {
   "cell_type": "code",
   "execution_count": 21,
   "metadata": {},
   "outputs": [
    {
     "data": {
      "text/html": [
       "<div>\n",
       "<style scoped>\n",
       "    .dataframe tbody tr th:only-of-type {\n",
       "        vertical-align: middle;\n",
       "    }\n",
       "\n",
       "    .dataframe tbody tr th {\n",
       "        vertical-align: top;\n",
       "    }\n",
       "\n",
       "    .dataframe thead th {\n",
       "        text-align: right;\n",
       "    }\n",
       "</style>\n",
       "<table border=\"1\" class=\"dataframe\">\n",
       "  <thead>\n",
       "    <tr style=\"text-align: right;\">\n",
       "      <th></th>\n",
       "      <th>LTP</th>\n",
       "      <th>%change</th>\n",
       "      <th>High</th>\n",
       "      <th>Low</th>\n",
       "      <th>Open</th>\n",
       "      <th>Qty.</th>\n",
       "      <th>Turnover</th>\n",
       "    </tr>\n",
       "    <tr>\n",
       "      <th>Month</th>\n",
       "      <th></th>\n",
       "      <th></th>\n",
       "      <th></th>\n",
       "      <th></th>\n",
       "      <th></th>\n",
       "      <th></th>\n",
       "      <th></th>\n",
       "    </tr>\n",
       "  </thead>\n",
       "  <tbody>\n",
       "    <tr>\n",
       "      <th>1</th>\n",
       "      <td>1397.519672</td>\n",
       "      <td>0.708197</td>\n",
       "      <td>1418.781967</td>\n",
       "      <td>1367.273770</td>\n",
       "      <td>1389.085246</td>\n",
       "      <td>1665.459016</td>\n",
       "      <td>2.425648e+06</td>\n",
       "    </tr>\n",
       "    <tr>\n",
       "      <th>2</th>\n",
       "      <td>1606.933929</td>\n",
       "      <td>0.081250</td>\n",
       "      <td>1641.380357</td>\n",
       "      <td>1573.625000</td>\n",
       "      <td>1613.073214</td>\n",
       "      <td>2153.642857</td>\n",
       "      <td>4.706755e+06</td>\n",
       "    </tr>\n",
       "    <tr>\n",
       "      <th>3</th>\n",
       "      <td>1496.408772</td>\n",
       "      <td>0.111579</td>\n",
       "      <td>1520.356140</td>\n",
       "      <td>1465.207018</td>\n",
       "      <td>1495.529825</td>\n",
       "      <td>1646.578947</td>\n",
       "      <td>3.651221e+06</td>\n",
       "    </tr>\n",
       "    <tr>\n",
       "      <th>4</th>\n",
       "      <td>1448.281034</td>\n",
       "      <td>-0.134655</td>\n",
       "      <td>1468.437931</td>\n",
       "      <td>1420.632759</td>\n",
       "      <td>1442.998276</td>\n",
       "      <td>678.155172</td>\n",
       "      <td>1.339837e+06</td>\n",
       "    </tr>\n",
       "    <tr>\n",
       "      <th>5</th>\n",
       "      <td>1499.256897</td>\n",
       "      <td>-0.238276</td>\n",
       "      <td>1525.687931</td>\n",
       "      <td>1475.632759</td>\n",
       "      <td>1506.370690</td>\n",
       "      <td>1584.620690</td>\n",
       "      <td>3.411442e+06</td>\n",
       "    </tr>\n",
       "    <tr>\n",
       "      <th>6</th>\n",
       "      <td>1340.206061</td>\n",
       "      <td>0.162727</td>\n",
       "      <td>1367.684848</td>\n",
       "      <td>1322.818182</td>\n",
       "      <td>1344.416667</td>\n",
       "      <td>1067.954545</td>\n",
       "      <td>1.829122e+06</td>\n",
       "    </tr>\n",
       "    <tr>\n",
       "      <th>7</th>\n",
       "      <td>1315.640909</td>\n",
       "      <td>0.095152</td>\n",
       "      <td>1334.025758</td>\n",
       "      <td>1293.989394</td>\n",
       "      <td>1310.715152</td>\n",
       "      <td>906.515152</td>\n",
       "      <td>1.409441e+06</td>\n",
       "    </tr>\n",
       "    <tr>\n",
       "      <th>8</th>\n",
       "      <td>1303.144776</td>\n",
       "      <td>-0.339701</td>\n",
       "      <td>1319.717910</td>\n",
       "      <td>1286.350746</td>\n",
       "      <td>1303.816418</td>\n",
       "      <td>875.880597</td>\n",
       "      <td>1.523613e+06</td>\n",
       "    </tr>\n",
       "    <tr>\n",
       "      <th>9</th>\n",
       "      <td>1227.470667</td>\n",
       "      <td>0.210133</td>\n",
       "      <td>1249.658667</td>\n",
       "      <td>1209.208000</td>\n",
       "      <td>1229.024000</td>\n",
       "      <td>1297.800000</td>\n",
       "      <td>1.622153e+06</td>\n",
       "    </tr>\n",
       "    <tr>\n",
       "      <th>10</th>\n",
       "      <td>1261.520690</td>\n",
       "      <td>0.629138</td>\n",
       "      <td>1279.594828</td>\n",
       "      <td>1226.675862</td>\n",
       "      <td>1243.596552</td>\n",
       "      <td>844.517241</td>\n",
       "      <td>1.434957e+06</td>\n",
       "    </tr>\n",
       "    <tr>\n",
       "      <th>11</th>\n",
       "      <td>1267.562500</td>\n",
       "      <td>-0.322500</td>\n",
       "      <td>1286.425000</td>\n",
       "      <td>1251.809722</td>\n",
       "      <td>1272.759722</td>\n",
       "      <td>1034.069444</td>\n",
       "      <td>1.702832e+06</td>\n",
       "    </tr>\n",
       "    <tr>\n",
       "      <th>12</th>\n",
       "      <td>1193.878947</td>\n",
       "      <td>0.403026</td>\n",
       "      <td>1219.722368</td>\n",
       "      <td>1166.876316</td>\n",
       "      <td>1195.164474</td>\n",
       "      <td>1983.618421</td>\n",
       "      <td>2.540587e+06</td>\n",
       "    </tr>\n",
       "  </tbody>\n",
       "</table>\n",
       "</div>"
      ],
      "text/plain": [
       "               LTP   %change         High          Low         Open  \\\n",
       "Month                                                                 \n",
       "1      1397.519672  0.708197  1418.781967  1367.273770  1389.085246   \n",
       "2      1606.933929  0.081250  1641.380357  1573.625000  1613.073214   \n",
       "3      1496.408772  0.111579  1520.356140  1465.207018  1495.529825   \n",
       "4      1448.281034 -0.134655  1468.437931  1420.632759  1442.998276   \n",
       "5      1499.256897 -0.238276  1525.687931  1475.632759  1506.370690   \n",
       "6      1340.206061  0.162727  1367.684848  1322.818182  1344.416667   \n",
       "7      1315.640909  0.095152  1334.025758  1293.989394  1310.715152   \n",
       "8      1303.144776 -0.339701  1319.717910  1286.350746  1303.816418   \n",
       "9      1227.470667  0.210133  1249.658667  1209.208000  1229.024000   \n",
       "10     1261.520690  0.629138  1279.594828  1226.675862  1243.596552   \n",
       "11     1267.562500 -0.322500  1286.425000  1251.809722  1272.759722   \n",
       "12     1193.878947  0.403026  1219.722368  1166.876316  1195.164474   \n",
       "\n",
       "              Qty.      Turnover  \n",
       "Month                             \n",
       "1      1665.459016  2.425648e+06  \n",
       "2      2153.642857  4.706755e+06  \n",
       "3      1646.578947  3.651221e+06  \n",
       "4       678.155172  1.339837e+06  \n",
       "5      1584.620690  3.411442e+06  \n",
       "6      1067.954545  1.829122e+06  \n",
       "7       906.515152  1.409441e+06  \n",
       "8       875.880597  1.523613e+06  \n",
       "9      1297.800000  1.622153e+06  \n",
       "10      844.517241  1.434957e+06  \n",
       "11     1034.069444  1.702832e+06  \n",
       "12     1983.618421  2.540587e+06  "
      ]
     },
     "execution_count": 21,
     "metadata": {},
     "output_type": "execute_result"
    }
   ],
   "source": [
    "df.groupby('Month').mean()"
   ]
  },
  {
   "cell_type": "code",
   "execution_count": 22,
   "metadata": {},
   "outputs": [
    {
     "data": {
      "text/plain": [
       "Month\n",
       "Jan    0.708197\n",
       "Feb    0.081250\n",
       "Mar    0.111579\n",
       "Apr   -0.134655\n",
       "May   -0.238276\n",
       "Jun    0.162727\n",
       "Jul    0.095152\n",
       "Aug   -0.339701\n",
       "Sep    0.210133\n",
       "Oct    0.629138\n",
       "Nov   -0.322500\n",
       "Dec    0.403026\n",
       "Name: %change, dtype: float64"
      ]
     },
     "execution_count": 22,
     "metadata": {},
     "output_type": "execute_result"
    }
   ],
   "source": [
    "monthly_change = df.groupby('Month').mean()['%change']\n",
    "month_names = {1: 'Jan', 2: 'Feb', 3: 'Mar', 4: 'Apr', 5: 'May', 6: 'Jun',\n",
    "               7: 'Jul', 8: 'Aug', 9: 'Sep', 10: 'Oct', 11: 'Nov', 12: 'Dec'}\n",
    "monthly_change.index = monthly_change.index.map(month_names)\n",
    "monthly_change"
   ]
  },
  {
   "cell_type": "code",
   "execution_count": 23,
   "metadata": {},
   "outputs": [
    {
     "data": {
      "image/png": "[encoded data removed]",
      "text/plain": [
       "<Figure size 576x432 with 1 Axes>"
      ]
     },
     "metadata": {
      "needs_background": "light"
     },
     "output_type": "display_data"
    }
   ],
   "source": [
    "# Plotting month against the mean %change\n",
    "plt.figure(figsize=(8, 6))\n",
    "monthly_change.plot(kind='bar', color='skyblue')\n",
    "plt.title('Mean % Change per Month')\n",
    "plt.xlabel('Month')\n",
    "plt.ylabel('Mean % Change')\n",
    "plt.xticks(rotation=0)\n",
    "plt.grid(axis='y')\n",
    "plt.show()\n"
   ]
  },
  {
   "cell_type": "code",
   "execution_count": 24,
   "metadata": {},
   "outputs": [],
   "source": [
    "# Analyzing percentage change (%change)\n",
    "df['Fluctuation'] = df['%change'].abs()  # Absolute value for fluctuations\n",
    "threshold_fluctuation = 2.0  # Define your threshold for significant fluctuations\n",
    "significant_fluctuations = df[df['Fluctuation'] > threshold_fluctuation]"
   ]
  },
  {
   "cell_type": "code",
   "execution_count": 25,
   "metadata": {},
   "outputs": [
    {
     "data": {
      "text/html": [
       "<div>\n",
       "<style scoped>\n",
       "    .dataframe tbody tr th:only-of-type {\n",
       "        vertical-align: middle;\n",
       "    }\n",
       "\n",
       "    .dataframe tbody tr th {\n",
       "        vertical-align: top;\n",
       "    }\n",
       "\n",
       "    .dataframe thead th {\n",
       "        text-align: right;\n",
       "    }\n",
       "</style>\n",
       "<table border=\"1\" class=\"dataframe\">\n",
       "  <thead>\n",
       "    <tr style=\"text-align: right;\">\n",
       "      <th></th>\n",
       "      <th>Date</th>\n",
       "      <th>%change</th>\n",
       "    </tr>\n",
       "  </thead>\n",
       "  <tbody>\n",
       "    <tr>\n",
       "      <th>0</th>\n",
       "      <td>2023-12-21</td>\n",
       "      <td>-7.26</td>\n",
       "    </tr>\n",
       "    <tr>\n",
       "      <th>1</th>\n",
       "      <td>2023-12-20</td>\n",
       "      <td>7.83</td>\n",
       "    </tr>\n",
       "    <tr>\n",
       "      <th>2</th>\n",
       "      <td>2023-12-19</td>\n",
       "      <td>10.00</td>\n",
       "    </tr>\n",
       "    <tr>\n",
       "      <th>4</th>\n",
       "      <td>2023-12-14</td>\n",
       "      <td>-2.75</td>\n",
       "    </tr>\n",
       "    <tr>\n",
       "      <th>5</th>\n",
       "      <td>2023-12-13</td>\n",
       "      <td>4.42</td>\n",
       "    </tr>\n",
       "    <tr>\n",
       "      <th>...</th>\n",
       "      <td>...</td>\n",
       "      <td>...</td>\n",
       "    </tr>\n",
       "    <tr>\n",
       "      <th>765</th>\n",
       "      <td>2020-09-07</td>\n",
       "      <td>9.91</td>\n",
       "    </tr>\n",
       "    <tr>\n",
       "      <th>766</th>\n",
       "      <td>2020-09-06</td>\n",
       "      <td>9.90</td>\n",
       "    </tr>\n",
       "    <tr>\n",
       "      <th>767</th>\n",
       "      <td>2020-09-03</td>\n",
       "      <td>9.92</td>\n",
       "    </tr>\n",
       "    <tr>\n",
       "      <th>768</th>\n",
       "      <td>2020-09-02</td>\n",
       "      <td>9.97</td>\n",
       "    </tr>\n",
       "    <tr>\n",
       "      <th>769</th>\n",
       "      <td>2020-08-31</td>\n",
       "      <td>9.94</td>\n",
       "    </tr>\n",
       "  </tbody>\n",
       "</table>\n",
       "<p>259 rows × 2 columns</p>\n",
       "</div>"
      ],
      "text/plain": [
       "          Date  %change\n",
       "0   2023-12-21    -7.26\n",
       "1   2023-12-20     7.83\n",
       "2   2023-12-19    10.00\n",
       "4   2023-12-14    -2.75\n",
       "5   2023-12-13     4.42\n",
       "..         ...      ...\n",
       "765 2020-09-07     9.91\n",
       "766 2020-09-06     9.90\n",
       "767 2020-09-03     9.92\n",
       "768 2020-09-02     9.97\n",
       "769 2020-08-31     9.94\n",
       "\n",
       "[259 rows x 2 columns]"
      ]
     },
     "execution_count": 25,
     "metadata": {},
     "output_type": "execute_result"
    }
   ],
   "source": [
    "df[\"Fluctuation\"] = df['%change']\n",
    "threshold_fluctuation = 2.0\n",
    "significant_fluctuation = df[df['Fluctuation']> 2]\n",
    "significant_fluctuations[['Date', '%change']]\n"
   ]
  },
  {
   "cell_type": "code",
   "execution_count": 26,
   "metadata": {},
   "outputs": [
    {
     "name": "stdout",
     "output_type": "stream",
     "text": [
      "Periods of significant fluctuations:\n",
      "         Date  Fluctuation\n",
      "0  2023-12-21         7.26\n",
      "1  2023-12-20         7.83\n",
      "2  2023-12-19        10.00\n",
      "4  2023-12-14         2.75\n",
      "5  2023-12-13         4.42\n",
      "7  2023-12-11         5.99\n",
      "10 2023-12-06         2.79\n",
      "11 2023-12-05         8.81\n",
      "13 2023-12-03         2.33\n",
      "19 2023-11-23         2.99\n",
      "22 2023-11-20         2.12\n",
      "25 2023-11-07         3.90\n",
      "26 2023-11-06         2.03\n",
      "29 2023-11-01         3.44\n",
      "35 2023-10-12         4.49\n",
      "40 2023-10-03         3.95\n",
      "42 2023-10-01         4.72\n",
      "44 2023-09-25         2.33\n",
      "45 2023-09-24         3.52\n",
      "46 2023-09-21         2.61\n"
     ]
    }
   ],
   "source": [
    "print(\"Periods of significant fluctuations:\")\n",
    "print(significant_fluctuations[['Date', 'Fluctuation']].head(20))"
   ]
  },
  {
   "cell_type": "code",
   "execution_count": 27,
   "metadata": {},
   "outputs": [
    {
     "name": "stdout",
     "output_type": "stream",
     "text": [
      "Maximum price:  2761.0\n",
      "Minimum price:  610.0\n",
      "Mean price:  1352.3557142857144\n",
      "Median price:  1121.0\n",
      "Standard Deviation of price:  590.6708480101427\n",
      "0    792.0\n",
      "1    854.0\n",
      "2    792.0\n",
      "3    675.0\n",
      "4    688.5\n",
      "5    708.0\n",
      "6    678.0\n",
      "7    664.9\n",
      "8    627.3\n",
      "9    615.0\n",
      "Name: LTP, dtype: float64\n"
     ]
    },
    {
     "name": "stderr",
     "output_type": "stream",
     "text": [
      "C:\\Users\\baral\\AppData\\Local\\Temp\\ipykernel_6832\\2351986036.py:15: UserWarning: \n",
      "\n",
      "`distplot` is a deprecated function and will be removed in seaborn v0.14.0.\n",
      "\n",
      "Please adapt your code to use either `displot` (a figure-level function with\n",
      "similar flexibility) or `histplot` (an axes-level function for histograms).\n",
      "\n",
      "For a guide to updating your code to use the new functions, please see\n",
      "https://gist.github.com/mwaskom/de44147ed2974457ad6372750bbe5751\n",
      "\n",
      "  sns.distplot(df['LTP'], color='skyblue')\n"
     ]
    },
    {
     "data": {
      "image/png": "[encoded data removed]",
      "text/plain": [
       "<Figure size 576x432 with 1 Axes>"
      ]
     },
     "metadata": {
      "needs_background": "light"
     },
     "output_type": "display_data"
    }
   ],
   "source": [
    "maximum_price = df['LTP'].max()\n",
    "minimum_price = df['LTP'].min()\n",
    "mean_price = df['LTP'].mean()\n",
    "median_price = df['LTP'].median()\n",
    "std_price = df['LTP'].std()\n",
    "\n",
    "print(\"Maximum price: \", maximum_price)\n",
    "print(\"Minimum price: \", minimum_price)\n",
    "print(\"Mean price: \", mean_price)\n",
    "print(\"Median price: \", median_price)\n",
    "print(\"Standard Deviation of price: \", std_price)\n",
    "print(df['LTP'].head(10))\n",
    "# Plotting the distribution of the LTP\n",
    "plt.figure(figsize=(8, 6))\n",
    "sns.distplot(df['LTP'], color='skyblue')\n",
    "plt.title('Distribution of LTP')\n",
    "plt.xlabel('LTP')\n",
    "plt.ylabel('Density')\n",
    "plt.show()\n",
    "\n"
   ]
  },
  {
   "cell_type": "code",
   "execution_count": 28,
   "metadata": {},
   "outputs": [
    {
     "data": {
      "image/png": "[encoded data removed]",
      "text/plain": [
       "<Figure size 576x432 with 1 Axes>"
      ]
     },
     "metadata": {
      "needs_background": "light"
     },
     "output_type": "display_data"
    }
   ],
   "source": [
    "plt.figure(figsize=(8, 6))\n",
    "plt.hist(df['LTP'], bins=50, color='skyblue', edgecolor='black')\n",
    "plt.title('Distribution of Last Traded Price')\n",
    "plt.xlabel('Last Traded Price')\n",
    "plt.ylabel('Frequency')\n",
    "plt.grid(axis='y')\n",
    "plt.show()\n"
   ]
  },
  {
   "cell_type": "code",
   "execution_count": 29,
   "metadata": {},
   "outputs": [
    {
     "data": {
      "image/png": "[encoded data removed]",
      "text/plain": [
       "<Figure size 576x432 with 1 Axes>"
      ]
     },
     "metadata": {
      "needs_background": "light"
     },
     "output_type": "display_data"
    }
   ],
   "source": [
    "import seaborn as sns\n",
    "\n",
    "# Plotting a boxplot to visualize the distribution and outliers of 'LTP' (Last Traded Price)\n",
    "plt.figure(figsize=(8, 6))\n",
    "sns.boxplot(y=df['LTP'], color='lightblue')\n",
    "plt.title('Boxplot of Last Traded Price')\n",
    "plt.ylabel('Last Traded Price')\n",
    "plt.grid(axis='y')\n",
    "plt.show()\n"
   ]
  },
  {
   "cell_type": "code",
   "execution_count": 30,
   "metadata": {},
   "outputs": [],
   "source": [
    "from statsmodels.tsa.arima.model import ARIMA\n",
    "reverse_ltp = df['LTP'].iloc[::-1]\n",
    "model = ARIMA(reverse_ltp, order=(5, 1, 0))\n",
    "model_fit = model.fit()\n"
   ]
  },
  {
   "cell_type": "code",
   "execution_count": 31,
   "metadata": {},
   "outputs": [],
   "source": [
    "forecast = model_fit.forecast(steps=10)"
   ]
  },
  {
   "cell_type": "code",
   "execution_count": 32,
   "metadata": {},
   "outputs": [
    {
     "data": {
      "text/plain": [
       "(-1     792.437671\n",
       " -2     789.639208\n",
       " -3     774.325669\n",
       " -4     768.019581\n",
       " -5     774.136930\n",
       " -6     774.349097\n",
       " -7     775.207453\n",
       " -8     777.190081\n",
       " -9     777.880200\n",
       " -10    777.288279\n",
       " Name: predicted_mean, dtype: float64,\n",
       " 0    792.0\n",
       " Name: LTP, dtype: float64)"
      ]
     },
     "execution_count": 32,
     "metadata": {},
     "output_type": "execute_result"
    }
   ],
   "source": [
    "forecast, df[\"LTP\"].head(1)"
   ]
  },
  {
   "cell_type": "code",
   "execution_count": 33,
   "metadata": {},
   "outputs": [
    {
     "data": {
      "text/plain": [
       "0           NaN\n",
       "1           NaN\n",
       "2           NaN\n",
       "3           NaN\n",
       "4           NaN\n",
       "         ...   \n",
       "765    0.034353\n",
       "766    0.038213\n",
       "767    0.040569\n",
       "768    0.044476\n",
       "769    0.047752\n",
       "Name: LTP, Length: 770, dtype: float64"
      ]
     },
     "execution_count": 33,
     "metadata": {},
     "output_type": "execute_result"
    }
   ],
   "source": [
    "# Daily_volatility i.e Fluctuation of Share Price(Standard Deviation)\n",
    "daily_volatility = df['LTP'].pct_change().rolling(window=20).std()\n",
    "daily_volatility"
   ]
  },
  {
   "cell_type": "code",
   "execution_count": 34,
   "metadata": {},
   "outputs": [
    {
     "data": {
      "image/png": "[encoded data removed]",
      "text/plain": [
       "<Figure size 576x432 with 1 Axes>"
      ]
     },
     "metadata": {
      "needs_background": "light"
     },
     "output_type": "display_data"
    }
   ],
   "source": [
    "plt.figure(figsize=(8, 6))\n",
    "plt.plot(df[\"Date\"], daily_volatility, label='Daily Volatility', color='orange')\n",
    "# plt.plot(df[\"Date\"].head(100), daily_volatility.head(100), label='Daily Volatility', color='orange')\n",
    "plt.title('Daily Volatility of Stock Price')\n",
    "plt.xlabel('Date')\n",
    "plt.ylabel('Daily Volatility')\n",
    "plt.legend()\n",
    "plt.show()"
   ]
  },
  {
   "cell_type": "code",
   "execution_count": 35,
   "metadata": {},
   "outputs": [
    {
     "data": {
      "text/html": [
       "<div>\n",
       "<style scoped>\n",
       "    .dataframe tbody tr th:only-of-type {\n",
       "        vertical-align: middle;\n",
       "    }\n",
       "\n",
       "    .dataframe tbody tr th {\n",
       "        vertical-align: top;\n",
       "    }\n",
       "\n",
       "    .dataframe thead th {\n",
       "        text-align: right;\n",
       "    }\n",
       "</style>\n",
       "<table border=\"1\" class=\"dataframe\">\n",
       "  <thead>\n",
       "    <tr style=\"text-align: right;\">\n",
       "      <th></th>\n",
       "      <th>LTP</th>\n",
       "      <th>%change</th>\n",
       "      <th>High</th>\n",
       "      <th>Low</th>\n",
       "      <th>Open</th>\n",
       "      <th>Qty.</th>\n",
       "      <th>Turnover</th>\n",
       "      <th>Month</th>\n",
       "      <th>Fluctuation</th>\n",
       "    </tr>\n",
       "    <tr>\n",
       "      <th>Date</th>\n",
       "      <th></th>\n",
       "      <th></th>\n",
       "      <th></th>\n",
       "      <th></th>\n",
       "      <th></th>\n",
       "      <th></th>\n",
       "      <th></th>\n",
       "      <th></th>\n",
       "      <th></th>\n",
       "    </tr>\n",
       "  </thead>\n",
       "  <tbody>\n",
       "    <tr>\n",
       "      <th>2023-12-21</th>\n",
       "      <td>792.0</td>\n",
       "      <td>-7.26</td>\n",
       "      <td>840.0</td>\n",
       "      <td>791.0</td>\n",
       "      <td>840.0</td>\n",
       "      <td>3505.0</td>\n",
       "      <td>2818082.7</td>\n",
       "      <td>12</td>\n",
       "      <td>-7.26</td>\n",
       "    </tr>\n",
       "    <tr>\n",
       "      <th>2023-12-20</th>\n",
       "      <td>854.0</td>\n",
       "      <td>7.83</td>\n",
       "      <td>857.0</td>\n",
       "      <td>737.5</td>\n",
       "      <td>777.0</td>\n",
       "      <td>4700.0</td>\n",
       "      <td>3777203.5</td>\n",
       "      <td>12</td>\n",
       "      <td>7.83</td>\n",
       "    </tr>\n",
       "    <tr>\n",
       "      <th>2023-12-19</th>\n",
       "      <td>792.0</td>\n",
       "      <td>10.00</td>\n",
       "      <td>792.0</td>\n",
       "      <td>703.0</td>\n",
       "      <td>718.0</td>\n",
       "      <td>3042.0</td>\n",
       "      <td>2206472.1</td>\n",
       "      <td>12</td>\n",
       "      <td>10.00</td>\n",
       "    </tr>\n",
       "    <tr>\n",
       "      <th>2023-12-17</th>\n",
       "      <td>675.0</td>\n",
       "      <td>-1.96</td>\n",
       "      <td>700.0</td>\n",
       "      <td>660.0</td>\n",
       "      <td>700.0</td>\n",
       "      <td>1595.0</td>\n",
       "      <td>1062728.5</td>\n",
       "      <td>12</td>\n",
       "      <td>-1.96</td>\n",
       "    </tr>\n",
       "    <tr>\n",
       "      <th>2023-12-14</th>\n",
       "      <td>688.5</td>\n",
       "      <td>-2.75</td>\n",
       "      <td>721.0</td>\n",
       "      <td>656.0</td>\n",
       "      <td>721.0</td>\n",
       "      <td>3568.0</td>\n",
       "      <td>2386841.8</td>\n",
       "      <td>12</td>\n",
       "      <td>-2.75</td>\n",
       "    </tr>\n",
       "    <tr>\n",
       "      <th>...</th>\n",
       "      <td>...</td>\n",
       "      <td>...</td>\n",
       "      <td>...</td>\n",
       "      <td>...</td>\n",
       "      <td>...</td>\n",
       "      <td>...</td>\n",
       "      <td>...</td>\n",
       "      <td>...</td>\n",
       "      <td>...</td>\n",
       "    </tr>\n",
       "    <tr>\n",
       "      <th>2020-09-07</th>\n",
       "      <td>1098.0</td>\n",
       "      <td>9.91</td>\n",
       "      <td>1098.0</td>\n",
       "      <td>1048.0</td>\n",
       "      <td>1048.0</td>\n",
       "      <td>17949.0</td>\n",
       "      <td>19530624.0</td>\n",
       "      <td>9</td>\n",
       "      <td>9.91</td>\n",
       "    </tr>\n",
       "    <tr>\n",
       "      <th>2020-09-06</th>\n",
       "      <td>999.0</td>\n",
       "      <td>9.90</td>\n",
       "      <td>999.0</td>\n",
       "      <td>954.0</td>\n",
       "      <td>954.0</td>\n",
       "      <td>574.0</td>\n",
       "      <td>570794.0</td>\n",
       "      <td>9</td>\n",
       "      <td>9.90</td>\n",
       "    </tr>\n",
       "    <tr>\n",
       "      <th>2020-09-03</th>\n",
       "      <td>909.0</td>\n",
       "      <td>9.92</td>\n",
       "      <td>909.0</td>\n",
       "      <td>843.0</td>\n",
       "      <td>843.0</td>\n",
       "      <td>730.0</td>\n",
       "      <td>660684.0</td>\n",
       "      <td>9</td>\n",
       "      <td>9.92</td>\n",
       "    </tr>\n",
       "    <tr>\n",
       "      <th>2020-09-02</th>\n",
       "      <td>827.0</td>\n",
       "      <td>9.97</td>\n",
       "      <td>827.0</td>\n",
       "      <td>767.0</td>\n",
       "      <td>767.0</td>\n",
       "      <td>76.0</td>\n",
       "      <td>61352.0</td>\n",
       "      <td>9</td>\n",
       "      <td>9.97</td>\n",
       "    </tr>\n",
       "    <tr>\n",
       "      <th>2020-08-31</th>\n",
       "      <td>752.0</td>\n",
       "      <td>9.94</td>\n",
       "      <td>752.0</td>\n",
       "      <td>697.0</td>\n",
       "      <td>697.0</td>\n",
       "      <td>79.0</td>\n",
       "      <td>56898.0</td>\n",
       "      <td>8</td>\n",
       "      <td>9.94</td>\n",
       "    </tr>\n",
       "  </tbody>\n",
       "</table>\n",
       "<p>770 rows × 9 columns</p>\n",
       "</div>"
      ],
      "text/plain": [
       "               LTP  %change    High     Low    Open     Qty.    Turnover  \\\n",
       "Date                                                                       \n",
       "2023-12-21   792.0    -7.26   840.0   791.0   840.0   3505.0   2818082.7   \n",
       "2023-12-20   854.0     7.83   857.0   737.5   777.0   4700.0   3777203.5   \n",
       "2023-12-19   792.0    10.00   792.0   703.0   718.0   3042.0   2206472.1   \n",
       "2023-12-17   675.0    -1.96   700.0   660.0   700.0   1595.0   1062728.5   \n",
       "2023-12-14   688.5    -2.75   721.0   656.0   721.0   3568.0   2386841.8   \n",
       "...            ...      ...     ...     ...     ...      ...         ...   \n",
       "2020-09-07  1098.0     9.91  1098.0  1048.0  1048.0  17949.0  19530624.0   \n",
       "2020-09-06   999.0     9.90   999.0   954.0   954.0    574.0    570794.0   \n",
       "2020-09-03   909.0     9.92   909.0   843.0   843.0    730.0    660684.0   \n",
       "2020-09-02   827.0     9.97   827.0   767.0   767.0     76.0     61352.0   \n",
       "2020-08-31   752.0     9.94   752.0   697.0   697.0     79.0     56898.0   \n",
       "\n",
       "            Month  Fluctuation  \n",
       "Date                            \n",
       "2023-12-21     12        -7.26  \n",
       "2023-12-20     12         7.83  \n",
       "2023-12-19     12        10.00  \n",
       "2023-12-17     12        -1.96  \n",
       "2023-12-14     12        -2.75  \n",
       "...           ...          ...  \n",
       "2020-09-07      9         9.91  \n",
       "2020-09-06      9         9.90  \n",
       "2020-09-03      9         9.92  \n",
       "2020-09-02      9         9.97  \n",
       "2020-08-31      8         9.94  \n",
       "\n",
       "[770 rows x 9 columns]"
      ]
     },
     "execution_count": 35,
     "metadata": {},
     "output_type": "execute_result"
    }
   ],
   "source": [
    "df.set_index('Date', inplace=True)\n",
    "df"
   ]
  },
  {
   "cell_type": "code",
   "execution_count": 36,
   "metadata": {},
   "outputs": [
    {
     "data": {
      "text/plain": [
       "(41,)"
      ]
     },
     "execution_count": 36,
     "metadata": {},
     "output_type": "execute_result"
    }
   ],
   "source": [
    "# Monthly Volatility\n",
    "monthly_volatility = df['LTP'].resample('M').std()\n",
    "# Yesle chai harey month ma vako volatility wa fluctuation lai dekhauxa\n",
    "monthly_volatility.shape"
   ]
  },
  {
   "cell_type": "code",
   "execution_count": 37,
   "metadata": {},
   "outputs": [
    {
     "data": {
      "text/plain": [
       "Date\n",
       "2020-08-31           NaN\n",
       "2020-09-30     99.479598\n",
       "2020-10-31     23.041363\n",
       "2020-11-30      9.943407\n",
       "2020-12-31     93.518044\n",
       "2021-01-31    150.322075\n",
       "2021-02-28    173.670370\n",
       "2021-03-31    209.322340\n",
       "2021-04-30     60.545184\n",
       "2021-05-31     83.965242\n",
       "2021-06-30     61.550317\n",
       "2021-07-31     52.430973\n",
       "2021-08-31     64.653396\n",
       "2021-09-30    127.825025\n",
       "2021-10-31    186.282194\n",
       "2021-11-30    150.116693\n",
       "2021-12-31    128.971313\n",
       "2022-01-31     59.190832\n",
       "2022-02-28     54.681267\n",
       "2022-03-31     42.245039\n",
       "2022-04-30     26.670167\n",
       "2022-05-31     62.324129\n",
       "2022-06-30     57.251836\n",
       "2022-07-31     51.875181\n",
       "2022-08-31     54.970823\n",
       "2022-09-30     44.114701\n",
       "2022-10-31     14.009575\n",
       "2022-11-30     23.059415\n",
       "2022-12-31     16.495195\n",
       "2023-01-31     37.424212\n",
       "2023-02-28     55.255000\n",
       "2023-03-31     30.571092\n",
       "2023-04-30     18.904615\n",
       "2023-05-31     29.508822\n",
       "2023-06-30     37.334556\n",
       "2023-07-31     19.569994\n",
       "2023-08-31     12.723714\n",
       "2023-09-30     22.133479\n",
       "2023-10-31     31.587824\n",
       "2023-11-30     12.027841\n",
       "2023-12-31     73.249389\n",
       "Freq: M, Name: LTP, dtype: float64"
      ]
     },
     "execution_count": 37,
     "metadata": {},
     "output_type": "execute_result"
    }
   ],
   "source": [
    "monthly_volatility"
   ]
  },
  {
   "cell_type": "code",
   "execution_count": 38,
   "metadata": {},
   "outputs": [
    {
     "name": "stderr",
     "output_type": "stream",
     "text": [
      "No artists with labels found to put in legend.  Note that artists whose label start with an underscore are ignored when legend() is called with no argument.\n"
     ]
    },
    {
     "data": {
      "image/png": "[encoded data removed]",
      "text/plain": [
       "<Figure size 1152x720 with 1 Axes>"
      ]
     },
     "metadata": {
      "needs_background": "light"
     },
     "output_type": "display_data"
    }
   ],
   "source": [
    "plt.figure(figsize=(16, 10))\n",
    "plt.bar(monthly_volatility.index, monthly_volatility, color='green', alpha=1, width=20)\n",
    "plt.title('Monthly Volatility of Stock Price')\n",
    "plt.xlabel('Date')\n",
    "plt.ylabel('Monthly Volatility')\n",
    "plt.legend()\n",
    "plt.show()\n"
   ]
  },
  {
   "cell_type": "code",
   "execution_count": 39,
   "metadata": {},
   "outputs": [],
   "source": [
    "monthly_change = df['%change'].resample('M').mean()\n"
   ]
  },
  {
   "cell_type": "code",
   "execution_count": 40,
   "metadata": {},
   "outputs": [
    {
     "data": {
      "text/plain": [
       "Date\n",
       "2020-08-31    9.940000\n",
       "2020-09-30    1.853810\n",
       "2020-10-31    0.142353\n",
       "2020-11-30    0.192105\n",
       "2020-12-31    0.719565\n",
       "2021-01-31    1.301500\n",
       "2021-02-28    1.370500\n",
       "2021-03-31    1.352500\n",
       "2021-04-30    0.058421\n",
       "2021-05-31   -0.227619\n",
       "2021-06-30   -0.052727\n",
       "2021-07-31    0.276842\n",
       "2021-08-31   -0.314000\n",
       "2021-09-30   -1.016667\n",
       "2021-10-31    2.296471\n",
       "2021-11-30   -1.331053\n",
       "2021-12-31   -0.002000\n",
       "2022-01-31    0.550455\n",
       "2022-02-28   -0.525263\n",
       "2022-03-31   -0.244444\n",
       "2022-04-30   -0.253889\n",
       "2022-05-31   -0.925789\n",
       "2022-06-30   -0.136250\n",
       "2022-07-31    0.312000\n",
       "2022-08-31   -0.714000\n",
       "2022-09-30   -0.260500\n",
       "2022-10-31    0.016364\n",
       "2022-11-30    0.072778\n",
       "2022-12-31    0.234211\n",
       "2023-01-31    0.266316\n",
       "2023-02-28   -0.757647\n",
       "2023-03-31   -0.857368\n",
       "2023-04-30   -0.207143\n",
       "2023-05-31    0.475000\n",
       "2023-06-30    0.758500\n",
       "2023-07-31   -0.308182\n",
       "2023-08-31   -0.408095\n",
       "2023-09-30    0.260769\n",
       "2023-10-31   -0.396154\n",
       "2023-11-30   -0.180625\n",
       "2023-12-31    0.690714\n",
       "Freq: M, Name: %change, dtype: float64"
      ]
     },
     "execution_count": 40,
     "metadata": {},
     "output_type": "execute_result"
    }
   ],
   "source": [
    "monthly_change"
   ]
  },
  {
   "cell_type": "code",
   "execution_count": 41,
   "metadata": {},
   "outputs": [
    {
     "data": {
      "image/png": "[encoded data removed]",
      "text/plain": [
       "<Figure size 1152x720 with 1 Axes>"
      ]
     },
     "metadata": {
      "needs_background": "light"
     },
     "output_type": "display_data"
    }
   ],
   "source": [
    "# Plot the monthly %change\n",
    "plt.figure(figsize=(16, 10))\n",
    "plt.bar(monthly_change.index, monthly_change, color='green', width=20)\n",
    "plt.title('Monthly %Change of Stock Price')\n",
    "plt.xlabel('Date')\n",
    "plt.ylabel('Monthly %Change')\n",
    "plt.show()"
   ]
  },
  {
   "cell_type": "code",
   "execution_count": 42,
   "metadata": {},
   "outputs": [
    {
     "data": {
      "text/html": [
       "<div>\n",
       "<style scoped>\n",
       "    .dataframe tbody tr th:only-of-type {\n",
       "        vertical-align: middle;\n",
       "    }\n",
       "\n",
       "    .dataframe tbody tr th {\n",
       "        vertical-align: top;\n",
       "    }\n",
       "\n",
       "    .dataframe thead th {\n",
       "        text-align: right;\n",
       "    }\n",
       "</style>\n",
       "<table border=\"1\" class=\"dataframe\">\n",
       "  <thead>\n",
       "    <tr style=\"text-align: right;\">\n",
       "      <th></th>\n",
       "      <th>LTP</th>\n",
       "      <th>%change</th>\n",
       "      <th>High</th>\n",
       "      <th>Low</th>\n",
       "      <th>Open</th>\n",
       "      <th>Qty.</th>\n",
       "      <th>Turnover</th>\n",
       "      <th>Month</th>\n",
       "      <th>Fluctuation</th>\n",
       "    </tr>\n",
       "    <tr>\n",
       "      <th>Date</th>\n",
       "      <th></th>\n",
       "      <th></th>\n",
       "      <th></th>\n",
       "      <th></th>\n",
       "      <th></th>\n",
       "      <th></th>\n",
       "      <th></th>\n",
       "      <th></th>\n",
       "      <th></th>\n",
       "    </tr>\n",
       "  </thead>\n",
       "  <tbody>\n",
       "    <tr>\n",
       "      <th>2020-08-31</th>\n",
       "      <td>752.0</td>\n",
       "      <td>9.94</td>\n",
       "      <td>752.0</td>\n",
       "      <td>697.0</td>\n",
       "      <td>697.0</td>\n",
       "      <td>79.0</td>\n",
       "      <td>56898.0</td>\n",
       "      <td>8</td>\n",
       "      <td>9.94</td>\n",
       "    </tr>\n",
       "    <tr>\n",
       "      <th>2020-09-02</th>\n",
       "      <td>827.0</td>\n",
       "      <td>9.97</td>\n",
       "      <td>827.0</td>\n",
       "      <td>767.0</td>\n",
       "      <td>767.0</td>\n",
       "      <td>76.0</td>\n",
       "      <td>61352.0</td>\n",
       "      <td>9</td>\n",
       "      <td>9.97</td>\n",
       "    </tr>\n",
       "    <tr>\n",
       "      <th>2020-09-03</th>\n",
       "      <td>909.0</td>\n",
       "      <td>9.92</td>\n",
       "      <td>909.0</td>\n",
       "      <td>843.0</td>\n",
       "      <td>843.0</td>\n",
       "      <td>730.0</td>\n",
       "      <td>660684.0</td>\n",
       "      <td>9</td>\n",
       "      <td>9.92</td>\n",
       "    </tr>\n",
       "    <tr>\n",
       "      <th>2020-09-06</th>\n",
       "      <td>999.0</td>\n",
       "      <td>9.90</td>\n",
       "      <td>999.0</td>\n",
       "      <td>954.0</td>\n",
       "      <td>954.0</td>\n",
       "      <td>574.0</td>\n",
       "      <td>570794.0</td>\n",
       "      <td>9</td>\n",
       "      <td>9.90</td>\n",
       "    </tr>\n",
       "    <tr>\n",
       "      <th>2020-09-07</th>\n",
       "      <td>1098.0</td>\n",
       "      <td>9.91</td>\n",
       "      <td>1098.0</td>\n",
       "      <td>1048.0</td>\n",
       "      <td>1048.0</td>\n",
       "      <td>17949.0</td>\n",
       "      <td>19530624.0</td>\n",
       "      <td>9</td>\n",
       "      <td>9.91</td>\n",
       "    </tr>\n",
       "    <tr>\n",
       "      <th>...</th>\n",
       "      <td>...</td>\n",
       "      <td>...</td>\n",
       "      <td>...</td>\n",
       "      <td>...</td>\n",
       "      <td>...</td>\n",
       "      <td>...</td>\n",
       "      <td>...</td>\n",
       "      <td>...</td>\n",
       "      <td>...</td>\n",
       "    </tr>\n",
       "    <tr>\n",
       "      <th>2023-12-14</th>\n",
       "      <td>688.5</td>\n",
       "      <td>-2.75</td>\n",
       "      <td>721.0</td>\n",
       "      <td>656.0</td>\n",
       "      <td>721.0</td>\n",
       "      <td>3568.0</td>\n",
       "      <td>2386841.8</td>\n",
       "      <td>12</td>\n",
       "      <td>-2.75</td>\n",
       "    </tr>\n",
       "    <tr>\n",
       "      <th>2023-12-17</th>\n",
       "      <td>675.0</td>\n",
       "      <td>-1.96</td>\n",
       "      <td>700.0</td>\n",
       "      <td>660.0</td>\n",
       "      <td>700.0</td>\n",
       "      <td>1595.0</td>\n",
       "      <td>1062728.5</td>\n",
       "      <td>12</td>\n",
       "      <td>-1.96</td>\n",
       "    </tr>\n",
       "    <tr>\n",
       "      <th>2023-12-19</th>\n",
       "      <td>792.0</td>\n",
       "      <td>10.00</td>\n",
       "      <td>792.0</td>\n",
       "      <td>703.0</td>\n",
       "      <td>718.0</td>\n",
       "      <td>3042.0</td>\n",
       "      <td>2206472.1</td>\n",
       "      <td>12</td>\n",
       "      <td>10.00</td>\n",
       "    </tr>\n",
       "    <tr>\n",
       "      <th>2023-12-20</th>\n",
       "      <td>854.0</td>\n",
       "      <td>7.83</td>\n",
       "      <td>857.0</td>\n",
       "      <td>737.5</td>\n",
       "      <td>777.0</td>\n",
       "      <td>4700.0</td>\n",
       "      <td>3777203.5</td>\n",
       "      <td>12</td>\n",
       "      <td>7.83</td>\n",
       "    </tr>\n",
       "    <tr>\n",
       "      <th>2023-12-21</th>\n",
       "      <td>792.0</td>\n",
       "      <td>-7.26</td>\n",
       "      <td>840.0</td>\n",
       "      <td>791.0</td>\n",
       "      <td>840.0</td>\n",
       "      <td>3505.0</td>\n",
       "      <td>2818082.7</td>\n",
       "      <td>12</td>\n",
       "      <td>-7.26</td>\n",
       "    </tr>\n",
       "  </tbody>\n",
       "</table>\n",
       "<p>770 rows × 9 columns</p>\n",
       "</div>"
      ],
      "text/plain": [
       "               LTP  %change    High     Low    Open     Qty.    Turnover  \\\n",
       "Date                                                                       \n",
       "2020-08-31   752.0     9.94   752.0   697.0   697.0     79.0     56898.0   \n",
       "2020-09-02   827.0     9.97   827.0   767.0   767.0     76.0     61352.0   \n",
       "2020-09-03   909.0     9.92   909.0   843.0   843.0    730.0    660684.0   \n",
       "2020-09-06   999.0     9.90   999.0   954.0   954.0    574.0    570794.0   \n",
       "2020-09-07  1098.0     9.91  1098.0  1048.0  1048.0  17949.0  19530624.0   \n",
       "...            ...      ...     ...     ...     ...      ...         ...   \n",
       "2023-12-14   688.5    -2.75   721.0   656.0   721.0   3568.0   2386841.8   \n",
       "2023-12-17   675.0    -1.96   700.0   660.0   700.0   1595.0   1062728.5   \n",
       "2023-12-19   792.0    10.00   792.0   703.0   718.0   3042.0   2206472.1   \n",
       "2023-12-20   854.0     7.83   857.0   737.5   777.0   4700.0   3777203.5   \n",
       "2023-12-21   792.0    -7.26   840.0   791.0   840.0   3505.0   2818082.7   \n",
       "\n",
       "            Month  Fluctuation  \n",
       "Date                            \n",
       "2020-08-31      8         9.94  \n",
       "2020-09-02      9         9.97  \n",
       "2020-09-03      9         9.92  \n",
       "2020-09-06      9         9.90  \n",
       "2020-09-07      9         9.91  \n",
       "...           ...          ...  \n",
       "2023-12-14     12        -2.75  \n",
       "2023-12-17     12        -1.96  \n",
       "2023-12-19     12        10.00  \n",
       "2023-12-20     12         7.83  \n",
       "2023-12-21     12        -7.26  \n",
       "\n",
       "[770 rows x 9 columns]"
      ]
     },
     "execution_count": 42,
     "metadata": {},
     "output_type": "execute_result"
    }
   ],
   "source": [
    "df_reverse = df[::-1]\n",
    "# this is done to arrange it according to the old date to new date\n",
    "df_reverse"
   ]
  },
  {
   "cell_type": "markdown",
   "metadata": {},
   "source": [
    "Moving Average of 50 days and 200 days"
   ]
  },
  {
   "cell_type": "code",
   "execution_count": 43,
   "metadata": {},
   "outputs": [],
   "source": [
    "ma_20 = df_reverse['LTP'].rolling(window=20).mean()\n",
    "ma_50 = df_reverse['LTP'].rolling(window=50).mean()"
   ]
  },
  {
   "cell_type": "code",
   "execution_count": 44,
   "metadata": {},
   "outputs": [
    {
     "data": {
      "text/plain": [
       "(Date\n",
       " 2020-08-31        NaN\n",
       " 2020-09-02        NaN\n",
       " 2020-09-03        NaN\n",
       " 2020-09-06        NaN\n",
       " 2020-09-07        NaN\n",
       "                ...   \n",
       " 2023-12-14    673.525\n",
       " 2023-12-17    672.080\n",
       " 2023-12-19    677.230\n",
       " 2023-12-20    685.930\n",
       " 2023-12-21    692.030\n",
       " Name: LTP, Length: 770, dtype: float64,\n",
       " Date\n",
       " 2020-08-31        NaN\n",
       " 2020-09-02        NaN\n",
       " 2020-09-03        NaN\n",
       " 2020-09-06        NaN\n",
       " 2020-09-07        NaN\n",
       "                ...   \n",
       " 2023-12-14    703.540\n",
       " 2023-12-17    703.148\n",
       " 2023-12-19    705.248\n",
       " 2023-12-20    708.578\n",
       " 2023-12-21    710.378\n",
       " Name: LTP, Length: 770, dtype: float64)"
      ]
     },
     "execution_count": 44,
     "metadata": {},
     "output_type": "execute_result"
    }
   ],
   "source": [
    "ma_20, ma_50"
   ]
  },
  {
   "cell_type": "code",
   "execution_count": 45,
   "metadata": {},
   "outputs": [
    {
     "data": {
      "image/png": "[encoded data removed]",
      "text/plain": [
       "<Figure size 864x432 with 1 Axes>"
      ]
     },
     "metadata": {
      "needs_background": "light"
     },
     "output_type": "display_data"
    }
   ],
   "source": [
    "plt.figure(figsize=(12, 6))\n",
    "plt.plot(df_reverse.index, df_reverse['LTP'], label='LTP', color='blue')\n",
    "plt.plot(df_reverse.index, ma_50, label='50-day MA', color='red', linestyle='--')\n",
    "plt.plot(df_reverse.index, ma_20, label='200-day MA', color='green', linestyle='--')\n",
    "plt.title('Stock Prices with Moving Averages')\n",
    "plt.xlabel('Date')\n",
    "plt.ylabel('Price')\n",
    "plt.legend()\n",
    "plt.show()"
   ]
  },
  {
   "cell_type": "code",
   "execution_count": 46,
   "metadata": {},
   "outputs": [],
   "source": [
    "from ta.momentum import RSIIndicator"
   ]
  },
  {
   "cell_type": "code",
   "execution_count": 47,
   "metadata": {},
   "outputs": [
    {
     "name": "stderr",
     "output_type": "stream",
     "text": [
      "C:\\Users\\baral\\AppData\\Local\\Temp\\ipykernel_6832\\3796524326.py:4: SettingWithCopyWarning: \n",
      "A value is trying to be set on a copy of a slice from a DataFrame.\n",
      "Try using .loc[row_indexer,col_indexer] = value instead\n",
      "\n",
      "See the caveats in the documentation: https://pandas.pydata.org/pandas-docs/stable/user_guide/indexing.html#returning-a-view-versus-a-copy\n",
      "  df_reverse['RSI'] = rsi.rsi()\n"
     ]
    },
    {
     "data": {
      "image/png": "[encoded data removed]",
      "text/plain": [
       "<Figure size 720x432 with 1 Axes>"
      ]
     },
     "metadata": {
      "needs_background": "light"
     },
     "output_type": "display_data"
    }
   ],
   "source": [
    "# Calculate RSI\n",
    "# The RSI oscillates between zero and 100. Traditionally,\n",
    "# an RSI reading of 70 or above indicates an\n",
    "# overbought situation, and a reading of 30 or\n",
    "# below indicates an oversold condition1.\n",
    "rsi_period = 14\n",
    "rsi = RSIIndicator(df_reverse['LTP'], window=rsi_period)\n",
    "df_reverse['RSI'] = rsi.rsi()\n",
    "\n",
    "plt.figure(figsize=(10, 6))\n",
    "plt.plot(df_reverse.index, df_reverse['RSI'], label='RSI', color='purple')\n",
    "plt.title('Relative Strength Index (RSI)')\n",
    "plt.xlabel('Date')\n",
    "plt.ylabel('RSI')\n",
    "plt.legend()\n",
    "plt.show()"
   ]
  },
  {
   "cell_type": "code",
   "execution_count": 48,
   "metadata": {},
   "outputs": [
    {
     "data": {
      "text/plain": [
       "<ta.momentum.RSIIndicator at 0x1acc8ffb0d0>"
      ]
     },
     "execution_count": 48,
     "metadata": {},
     "output_type": "execute_result"
    }
   ],
   "source": []
  },
  {
   "cell_type": "code",
   "execution_count": null,
   "metadata": {},
   "outputs": [],
   "source": []
  },
  {
   "cell_type": "markdown",
   "metadata": {},
   "source": []
  },
  {
   "cell_type": "code",
   "execution_count": null,
   "metadata": {},
   "outputs": [],
   "source": []
  },
  {
   "cell_type": "code",
   "execution_count": null,
   "metadata": {},
   "outputs": [],
   "source": []
  },
  {
   "cell_type": "code",
   "execution_count": null,
   "metadata": {},
   "outputs": [],
   "source": []
  }
 ],
 "metadata": {
  "kernelspec": {
   "display_name": "Python 3",
   "language": "python",
   "name": "python3"
  },
  "language_info": {
   "codemirror_mode": {
    "name": "ipython",
    "version": 3
   },
   "file_extension": ".py",
   "mimetype": "text/x-python",
   "name": "python",
   "nbconvert_exporter": "python",
   "pygments_lexer": "ipython3",
   "version": "3.9.5"
  }
 },
 "nbformat": 4,
 "nbformat_minor": 2
}
