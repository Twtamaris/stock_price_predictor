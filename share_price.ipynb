{
 "cells": [
  {
   "cell_type": "code",
   "execution_count": 265,
   "metadata": {},
   "outputs": [],
   "source": [
    "import numpy as np\n",
    "import pandas as pd\n",
    "import matplotlib.pyplot as plt\n",
    "import seaborn as sns"
   ]
  },
  {
   "cell_type": "code",
   "execution_count": 266,
   "metadata": {},
   "outputs": [],
   "source": [
    "%store -r share_name"
   ]
  },
  {
   "cell_type": "code",
   "execution_count": 267,
   "metadata": {},
   "outputs": [],
   "source": [
    "df = pd.read_csv(f'company/{share_name}.csv')"
   ]
  },
  {
   "cell_type": "code",
   "execution_count": 268,
   "metadata": {},
   "outputs": [
    {
     "data": {
      "text/plain": [
       "'USLB'"
      ]
     },
     "execution_count": 268,
     "metadata": {},
     "output_type": "execute_result"
    }
   ],
   "source": [
    "share_name"
   ]
  },
  {
   "cell_type": "code",
   "execution_count": 269,
   "metadata": {},
   "outputs": [
    {
     "data": {
      "text/html": [
       "<div>\n",
       "<style scoped>\n",
       "    .dataframe tbody tr th:only-of-type {\n",
       "        vertical-align: middle;\n",
       "    }\n",
       "\n",
       "    .dataframe tbody tr th {\n",
       "        vertical-align: top;\n",
       "    }\n",
       "\n",
       "    .dataframe thead th {\n",
       "        text-align: right;\n",
       "    }\n",
       "</style>\n",
       "<table border=\"1\" class=\"dataframe\">\n",
       "  <thead>\n",
       "    <tr style=\"text-align: right;\">\n",
       "      <th></th>\n",
       "      <th>SN</th>\n",
       "      <th>Date</th>\n",
       "      <th>LTP</th>\n",
       "      <th>%change</th>\n",
       "      <th>High</th>\n",
       "      <th>Low</th>\n",
       "      <th>Open</th>\n",
       "      <th>Qty.</th>\n",
       "      <th>Turnover</th>\n",
       "    </tr>\n",
       "  </thead>\n",
       "  <tbody>\n",
       "    <tr>\n",
       "      <th>0</th>\n",
       "      <td>1</td>\n",
       "      <td>2023/12/21</td>\n",
       "      <td>792.00</td>\n",
       "      <td>-7.26</td>\n",
       "      <td>840.00</td>\n",
       "      <td>791.00</td>\n",
       "      <td>840.00</td>\n",
       "      <td>3,505</td>\n",
       "      <td>2,818,082.70</td>\n",
       "    </tr>\n",
       "    <tr>\n",
       "      <th>1</th>\n",
       "      <td>2</td>\n",
       "      <td>2023/12/20</td>\n",
       "      <td>854.00</td>\n",
       "      <td>7.83</td>\n",
       "      <td>857.00</td>\n",
       "      <td>737.50</td>\n",
       "      <td>777.00</td>\n",
       "      <td>4,700</td>\n",
       "      <td>3,777,203.50</td>\n",
       "    </tr>\n",
       "    <tr>\n",
       "      <th>2</th>\n",
       "      <td>3</td>\n",
       "      <td>2023/12/19</td>\n",
       "      <td>792.00</td>\n",
       "      <td>10.00</td>\n",
       "      <td>792.00</td>\n",
       "      <td>703.00</td>\n",
       "      <td>718.00</td>\n",
       "      <td>3,042</td>\n",
       "      <td>2,206,472.10</td>\n",
       "    </tr>\n",
       "    <tr>\n",
       "      <th>3</th>\n",
       "      <td>4</td>\n",
       "      <td>2023/12/17</td>\n",
       "      <td>675.00</td>\n",
       "      <td>-1.96</td>\n",
       "      <td>700.00</td>\n",
       "      <td>660.00</td>\n",
       "      <td>700.00</td>\n",
       "      <td>1,595</td>\n",
       "      <td>1,062,728.50</td>\n",
       "    </tr>\n",
       "    <tr>\n",
       "      <th>4</th>\n",
       "      <td>5</td>\n",
       "      <td>2023/12/14</td>\n",
       "      <td>688.50</td>\n",
       "      <td>-2.75</td>\n",
       "      <td>721.00</td>\n",
       "      <td>656.00</td>\n",
       "      <td>721.00</td>\n",
       "      <td>3,568</td>\n",
       "      <td>2,386,841.80</td>\n",
       "    </tr>\n",
       "  </tbody>\n",
       "</table>\n",
       "</div>"
      ],
      "text/plain": [
       "   SN        Date     LTP  %change    High     Low    Open   Qty.  \\\n",
       "0   1  2023/12/21  792.00    -7.26  840.00  791.00  840.00  3,505   \n",
       "1   2  2023/12/20  854.00     7.83  857.00  737.50  777.00  4,700   \n",
       "2   3  2023/12/19  792.00    10.00  792.00  703.00  718.00  3,042   \n",
       "3   4  2023/12/17  675.00    -1.96  700.00  660.00  700.00  1,595   \n",
       "4   5  2023/12/14  688.50    -2.75  721.00  656.00  721.00  3,568   \n",
       "\n",
       "       Turnover  \n",
       "0  2,818,082.70  \n",
       "1  3,777,203.50  \n",
       "2  2,206,472.10  \n",
       "3  1,062,728.50  \n",
       "4  2,386,841.80  "
      ]
     },
     "execution_count": 269,
     "metadata": {},
     "output_type": "execute_result"
    }
   ],
   "source": [
    "df.head()"
   ]
  },
  {
   "cell_type": "code",
   "execution_count": 270,
   "metadata": {},
   "outputs": [],
   "source": [
    "# remove the comlun with name\n",
    "df = df.drop(['SN'], axis=1)\n",
    "\n",
    "\n"
   ]
  },
  {
   "cell_type": "code",
   "execution_count": 271,
   "metadata": {},
   "outputs": [
    {
     "data": {
      "text/plain": [
       "Date         object\n",
       "LTP          object\n",
       "%change     float64\n",
       "High         object\n",
       "Low          object\n",
       "Open         object\n",
       "Qty.         object\n",
       "Turnover     object\n",
       "dtype: object"
      ]
     },
     "execution_count": 271,
     "metadata": {},
     "output_type": "execute_result"
    }
   ],
   "source": [
    "# check the data type\n",
    "df.dtypes"
   ]
  },
  {
   "cell_type": "code",
   "execution_count": 272,
   "metadata": {},
   "outputs": [
    {
     "data": {
      "text/plain": [
       "(0       3505.0\n",
       " 1       4700.0\n",
       " 2       3042.0\n",
       " 3       1595.0\n",
       " 4       3568.0\n",
       "         ...   \n",
       " 765    17949.0\n",
       " 766      574.0\n",
       " 767      730.0\n",
       " 768       76.0\n",
       " 769       79.0\n",
       " Name: Qty., Length: 770, dtype: float64,\n",
       " 0       2818082.7\n",
       " 1       3777203.5\n",
       " 2       2206472.1\n",
       " 3       1062728.5\n",
       " 4       2386841.8\n",
       "           ...    \n",
       " 765    19530624.0\n",
       " 766      570794.0\n",
       " 767      660684.0\n",
       " 768       61352.0\n",
       " 769       56898.0\n",
       " Name: Turnover, Length: 770, dtype: float64)"
      ]
     },
     "execution_count": 272,
     "metadata": {},
     "output_type": "execute_result"
    }
   ],
   "source": [
    "# make the qty and turnover to float\n",
    "df['Qty.'] = df['Qty.'].replace(',','', regex=True).astype(float)\n",
    "df['Turnover'] = df['Turnover'].replace(',','', regex=True).astype(float)\n",
    "df['LTP'] = df['LTP'].replace(',','', regex=True).astype(float)\n",
    "df['Open'] = df['Open'].replace(',','', regex=True).astype(float)\n",
    "df['High'] = df['High'].replace(',','', regex=True).astype(float)\n",
    "df['Low'] = df['Low'].replace(',','', regex=True).astype(float)\n",
    "df['Qty.'], df['Turnover']"
   ]
  },
  {
   "cell_type": "code",
   "execution_count": 273,
   "metadata": {},
   "outputs": [
    {
     "data": {
      "text/plain": [
       "Date         object\n",
       "LTP         float64\n",
       "%change     float64\n",
       "High        float64\n",
       "Low         float64\n",
       "Open        float64\n",
       "Qty.        float64\n",
       "Turnover    float64\n",
       "dtype: object"
      ]
     },
     "execution_count": 273,
     "metadata": {},
     "output_type": "execute_result"
    }
   ],
   "source": [
    "df.dtypes"
   ]
  },
  {
   "cell_type": "code",
   "execution_count": 274,
   "metadata": {},
   "outputs": [
    {
     "data": {
      "text/html": [
       "<div>\n",
       "<style scoped>\n",
       "    .dataframe tbody tr th:only-of-type {\n",
       "        vertical-align: middle;\n",
       "    }\n",
       "\n",
       "    .dataframe tbody tr th {\n",
       "        vertical-align: top;\n",
       "    }\n",
       "\n",
       "    .dataframe thead th {\n",
       "        text-align: right;\n",
       "    }\n",
       "</style>\n",
       "<table border=\"1\" class=\"dataframe\">\n",
       "  <thead>\n",
       "    <tr style=\"text-align: right;\">\n",
       "      <th></th>\n",
       "      <th>Date</th>\n",
       "      <th>LTP</th>\n",
       "      <th>%change</th>\n",
       "      <th>High</th>\n",
       "      <th>Low</th>\n",
       "      <th>Open</th>\n",
       "      <th>Qty.</th>\n",
       "      <th>Turnover</th>\n",
       "    </tr>\n",
       "  </thead>\n",
       "  <tbody>\n",
       "    <tr>\n",
       "      <th>0</th>\n",
       "      <td>2023/12/21</td>\n",
       "      <td>792.0</td>\n",
       "      <td>-7.26</td>\n",
       "      <td>840.0</td>\n",
       "      <td>791.0</td>\n",
       "      <td>840.0</td>\n",
       "      <td>3505.0</td>\n",
       "      <td>2818082.7</td>\n",
       "    </tr>\n",
       "    <tr>\n",
       "      <th>1</th>\n",
       "      <td>2023/12/20</td>\n",
       "      <td>854.0</td>\n",
       "      <td>7.83</td>\n",
       "      <td>857.0</td>\n",
       "      <td>737.5</td>\n",
       "      <td>777.0</td>\n",
       "      <td>4700.0</td>\n",
       "      <td>3777203.5</td>\n",
       "    </tr>\n",
       "    <tr>\n",
       "      <th>2</th>\n",
       "      <td>2023/12/19</td>\n",
       "      <td>792.0</td>\n",
       "      <td>10.00</td>\n",
       "      <td>792.0</td>\n",
       "      <td>703.0</td>\n",
       "      <td>718.0</td>\n",
       "      <td>3042.0</td>\n",
       "      <td>2206472.1</td>\n",
       "    </tr>\n",
       "    <tr>\n",
       "      <th>3</th>\n",
       "      <td>2023/12/17</td>\n",
       "      <td>675.0</td>\n",
       "      <td>-1.96</td>\n",
       "      <td>700.0</td>\n",
       "      <td>660.0</td>\n",
       "      <td>700.0</td>\n",
       "      <td>1595.0</td>\n",
       "      <td>1062728.5</td>\n",
       "    </tr>\n",
       "    <tr>\n",
       "      <th>4</th>\n",
       "      <td>2023/12/14</td>\n",
       "      <td>688.5</td>\n",
       "      <td>-2.75</td>\n",
       "      <td>721.0</td>\n",
       "      <td>656.0</td>\n",
       "      <td>721.0</td>\n",
       "      <td>3568.0</td>\n",
       "      <td>2386841.8</td>\n",
       "    </tr>\n",
       "  </tbody>\n",
       "</table>\n",
       "</div>"
      ],
      "text/plain": [
       "         Date    LTP  %change   High    Low   Open    Qty.   Turnover\n",
       "0  2023/12/21  792.0    -7.26  840.0  791.0  840.0  3505.0  2818082.7\n",
       "1  2023/12/20  854.0     7.83  857.0  737.5  777.0  4700.0  3777203.5\n",
       "2  2023/12/19  792.0    10.00  792.0  703.0  718.0  3042.0  2206472.1\n",
       "3  2023/12/17  675.0    -1.96  700.0  660.0  700.0  1595.0  1062728.5\n",
       "4  2023/12/14  688.5    -2.75  721.0  656.0  721.0  3568.0  2386841.8"
      ]
     },
     "execution_count": 274,
     "metadata": {},
     "output_type": "execute_result"
    }
   ],
   "source": [
    "df.head()"
   ]
  },
  {
   "cell_type": "code",
   "execution_count": 275,
   "metadata": {},
   "outputs": [],
   "source": [
    "df['Date'] = pd.to_datetime(df['Date'])"
   ]
  },
  {
   "cell_type": "code",
   "execution_count": 276,
   "metadata": {},
   "outputs": [
    {
     "data": {
      "text/plain": [
       "0     2023-12-21\n",
       "1     2023-12-20\n",
       "2     2023-12-19\n",
       "3     2023-12-17\n",
       "4     2023-12-14\n",
       "         ...    \n",
       "765   2020-09-07\n",
       "766   2020-09-06\n",
       "767   2020-09-03\n",
       "768   2020-09-02\n",
       "769   2020-08-31\n",
       "Name: Date, Length: 770, dtype: datetime64[ns]"
      ]
     },
     "execution_count": 276,
     "metadata": {},
     "output_type": "execute_result"
    }
   ],
   "source": [
    "df['Date']"
   ]
  },
  {
   "cell_type": "code",
   "execution_count": 277,
   "metadata": {},
   "outputs": [
    {
     "data": {
      "image/png": "[encoded data removed]",
      "text/plain": [
       "<Figure size 720x576 with 2 Axes>"
      ]
     },
     "metadata": {
      "needs_background": "light"
     },
     "output_type": "display_data"
    }
   ],
   "source": [
    "plt.figure(figsize=(10, 8))\n",
    "sns.heatmap(df.corr(), annot=True, cmap='coolwarm', fmt=\".2f\")\n",
    "plt.title('Correlation Matrix')\n",
    "plt.show()"
   ]
  },
  {
   "cell_type": "code",
   "execution_count": 278,
   "metadata": {},
   "outputs": [
    {
     "data": {
      "image/png": "[encoded data removed]",
      "text/plain": [
       "<Figure size 1152x576 with 1 Axes>"
      ]
     },
     "metadata": {
      "needs_background": "light"
     },
     "output_type": "display_data"
    }
   ],
   "source": [
    "# Plotting \"Date\" against \"LTP\"-Last Trade Price\n",
    "plt.figure(figsize=(16,8))\n",
    "plt.title('Stock Price Over Time')\n",
    "plt.xlabel('Date', fontsize=18)\n",
    "plt.ylabel('LTP', fontsize=18)\n",
    "plt.plot(df['Date'], df['LTP'])\n",
    "plt.show()\n",
    "\n"
   ]
  },
  {
   "cell_type": "code",
   "execution_count": 279,
   "metadata": {},
   "outputs": [
    {
     "data": {
      "text/plain": [
       "0      -7.26\n",
       "1       7.83\n",
       "2      10.00\n",
       "3      -1.96\n",
       "4      -2.75\n",
       "       ...  \n",
       "765     9.91\n",
       "766     9.90\n",
       "767     9.92\n",
       "768     9.97\n",
       "769     9.94\n",
       "Name: %change, Length: 770, dtype: float64"
      ]
     },
     "execution_count": 279,
     "metadata": {},
     "output_type": "execute_result"
    }
   ],
   "source": [
    "df['%change']"
   ]
  },
  {
   "cell_type": "code",
   "execution_count": 280,
   "metadata": {},
   "outputs": [],
   "source": [
    "df['Month'] = df['Date'].dt.month"
   ]
  },
  {
   "cell_type": "code",
   "execution_count": 281,
   "metadata": {},
   "outputs": [
    {
     "data": {
      "text/html": [
       "<div>\n",
       "<style scoped>\n",
       "    .dataframe tbody tr th:only-of-type {\n",
       "        vertical-align: middle;\n",
       "    }\n",
       "\n",
       "    .dataframe tbody tr th {\n",
       "        vertical-align: top;\n",
       "    }\n",
       "\n",
       "    .dataframe thead th {\n",
       "        text-align: right;\n",
       "    }\n",
       "</style>\n",
       "<table border=\"1\" class=\"dataframe\">\n",
       "  <thead>\n",
       "    <tr style=\"text-align: right;\">\n",
       "      <th></th>\n",
       "      <th>LTP</th>\n",
       "      <th>%change</th>\n",
       "      <th>High</th>\n",
       "      <th>Low</th>\n",
       "      <th>Open</th>\n",
       "      <th>Qty.</th>\n",
       "      <th>Turnover</th>\n",
       "    </tr>\n",
       "    <tr>\n",
       "      <th>Month</th>\n",
       "      <th></th>\n",
       "      <th></th>\n",
       "      <th></th>\n",
       "      <th></th>\n",
       "      <th></th>\n",
       "      <th></th>\n",
       "      <th></th>\n",
       "    </tr>\n",
       "  </thead>\n",
       "  <tbody>\n",
       "    <tr>\n",
       "      <th>1</th>\n",
       "      <td>1397.519672</td>\n",
       "      <td>0.708197</td>\n",
       "      <td>1418.781967</td>\n",
       "      <td>1367.273770</td>\n",
       "      <td>1389.085246</td>\n",
       "      <td>1665.459016</td>\n",
       "      <td>2.425648e+06</td>\n",
       "    </tr>\n",
       "    <tr>\n",
       "      <th>2</th>\n",
       "      <td>1606.933929</td>\n",
       "      <td>0.081250</td>\n",
       "      <td>1641.380357</td>\n",
       "      <td>1573.625000</td>\n",
       "      <td>1613.073214</td>\n",
       "      <td>2153.642857</td>\n",
       "      <td>4.706755e+06</td>\n",
       "    </tr>\n",
       "    <tr>\n",
       "      <th>3</th>\n",
       "      <td>1496.408772</td>\n",
       "      <td>0.111579</td>\n",
       "      <td>1520.356140</td>\n",
       "      <td>1465.207018</td>\n",
       "      <td>1495.529825</td>\n",
       "      <td>1646.578947</td>\n",
       "      <td>3.651221e+06</td>\n",
       "    </tr>\n",
       "    <tr>\n",
       "      <th>4</th>\n",
       "      <td>1448.281034</td>\n",
       "      <td>-0.134655</td>\n",
       "      <td>1468.437931</td>\n",
       "      <td>1420.632759</td>\n",
       "      <td>1442.998276</td>\n",
       "      <td>678.155172</td>\n",
       "      <td>1.339837e+06</td>\n",
       "    </tr>\n",
       "    <tr>\n",
       "      <th>5</th>\n",
       "      <td>1499.256897</td>\n",
       "      <td>-0.238276</td>\n",
       "      <td>1525.687931</td>\n",
       "      <td>1475.632759</td>\n",
       "      <td>1506.370690</td>\n",
       "      <td>1584.620690</td>\n",
       "      <td>3.411442e+06</td>\n",
       "    </tr>\n",
       "    <tr>\n",
       "      <th>6</th>\n",
       "      <td>1340.206061</td>\n",
       "      <td>0.162727</td>\n",
       "      <td>1367.684848</td>\n",
       "      <td>1322.818182</td>\n",
       "      <td>1344.416667</td>\n",
       "      <td>1067.954545</td>\n",
       "      <td>1.829122e+06</td>\n",
       "    </tr>\n",
       "    <tr>\n",
       "      <th>7</th>\n",
       "      <td>1315.640909</td>\n",
       "      <td>0.095152</td>\n",
       "      <td>1334.025758</td>\n",
       "      <td>1293.989394</td>\n",
       "      <td>1310.715152</td>\n",
       "      <td>906.515152</td>\n",
       "      <td>1.409441e+06</td>\n",
       "    </tr>\n",
       "    <tr>\n",
       "      <th>8</th>\n",
       "      <td>1303.144776</td>\n",
       "      <td>-0.339701</td>\n",
       "      <td>1319.717910</td>\n",
       "      <td>1286.350746</td>\n",
       "      <td>1303.816418</td>\n",
       "      <td>875.880597</td>\n",
       "      <td>1.523613e+06</td>\n",
       "    </tr>\n",
       "    <tr>\n",
       "      <th>9</th>\n",
       "      <td>1227.470667</td>\n",
       "      <td>0.210133</td>\n",
       "      <td>1249.658667</td>\n",
       "      <td>1209.208000</td>\n",
       "      <td>1229.024000</td>\n",
       "      <td>1297.800000</td>\n",
       "      <td>1.622153e+06</td>\n",
       "    </tr>\n",
       "    <tr>\n",
       "      <th>10</th>\n",
       "      <td>1261.520690</td>\n",
       "      <td>0.629138</td>\n",
       "      <td>1279.594828</td>\n",
       "      <td>1226.675862</td>\n",
       "      <td>1243.596552</td>\n",
       "      <td>844.517241</td>\n",
       "      <td>1.434957e+06</td>\n",
       "    </tr>\n",
       "    <tr>\n",
       "      <th>11</th>\n",
       "      <td>1267.562500</td>\n",
       "      <td>-0.322500</td>\n",
       "      <td>1286.425000</td>\n",
       "      <td>1251.809722</td>\n",
       "      <td>1272.759722</td>\n",
       "      <td>1034.069444</td>\n",
       "      <td>1.702832e+06</td>\n",
       "    </tr>\n",
       "    <tr>\n",
       "      <th>12</th>\n",
       "      <td>1193.878947</td>\n",
       "      <td>0.403026</td>\n",
       "      <td>1219.722368</td>\n",
       "      <td>1166.876316</td>\n",
       "      <td>1195.164474</td>\n",
       "      <td>1983.618421</td>\n",
       "      <td>2.540587e+06</td>\n",
       "    </tr>\n",
       "  </tbody>\n",
       "</table>\n",
       "</div>"
      ],
      "text/plain": [
       "               LTP   %change         High          Low         Open  \\\n",
       "Month                                                                 \n",
       "1      1397.519672  0.708197  1418.781967  1367.273770  1389.085246   \n",
       "2      1606.933929  0.081250  1641.380357  1573.625000  1613.073214   \n",
       "3      1496.408772  0.111579  1520.356140  1465.207018  1495.529825   \n",
       "4      1448.281034 -0.134655  1468.437931  1420.632759  1442.998276   \n",
       "5      1499.256897 -0.238276  1525.687931  1475.632759  1506.370690   \n",
       "6      1340.206061  0.162727  1367.684848  1322.818182  1344.416667   \n",
       "7      1315.640909  0.095152  1334.025758  1293.989394  1310.715152   \n",
       "8      1303.144776 -0.339701  1319.717910  1286.350746  1303.816418   \n",
       "9      1227.470667  0.210133  1249.658667  1209.208000  1229.024000   \n",
       "10     1261.520690  0.629138  1279.594828  1226.675862  1243.596552   \n",
       "11     1267.562500 -0.322500  1286.425000  1251.809722  1272.759722   \n",
       "12     1193.878947  0.403026  1219.722368  1166.876316  1195.164474   \n",
       "\n",
       "              Qty.      Turnover  \n",
       "Month                             \n",
       "1      1665.459016  2.425648e+06  \n",
       "2      2153.642857  4.706755e+06  \n",
       "3      1646.578947  3.651221e+06  \n",
       "4       678.155172  1.339837e+06  \n",
       "5      1584.620690  3.411442e+06  \n",
       "6      1067.954545  1.829122e+06  \n",
       "7       906.515152  1.409441e+06  \n",
       "8       875.880597  1.523613e+06  \n",
       "9      1297.800000  1.622153e+06  \n",
       "10      844.517241  1.434957e+06  \n",
       "11     1034.069444  1.702832e+06  \n",
       "12     1983.618421  2.540587e+06  "
      ]
     },
     "execution_count": 281,
     "metadata": {},
     "output_type": "execute_result"
    }
   ],
   "source": [
    "df.groupby('Month').mean()"
   ]
  },
  {
   "cell_type": "code",
   "execution_count": 282,
   "metadata": {},
   "outputs": [
    {
     "data": {
      "text/plain": [
       "Month\n",
       "Jan    0.708197\n",
       "Feb    0.081250\n",
       "Mar    0.111579\n",
       "Apr   -0.134655\n",
       "May   -0.238276\n",
       "Jun    0.162727\n",
       "Jul    0.095152\n",
       "Aug   -0.339701\n",
       "Sep    0.210133\n",
       "Oct    0.629138\n",
       "Nov   -0.322500\n",
       "Dec    0.403026\n",
       "Name: %change, dtype: float64"
      ]
     },
     "execution_count": 282,
     "metadata": {},
     "output_type": "execute_result"
    }
   ],
   "source": [
    "monthly_change = df.groupby('Month').mean()['%change']\n",
    "month_names = {1: 'Jan', 2: 'Feb', 3: 'Mar', 4: 'Apr', 5: 'May', 6: 'Jun',\n",
    "               7: 'Jul', 8: 'Aug', 9: 'Sep', 10: 'Oct', 11: 'Nov', 12: 'Dec'}\n",
    "monthly_change.index = monthly_change.index.map(month_names)\n",
    "monthly_change"
   ]
  },
  {
   "cell_type": "code",
   "execution_count": 283,
   "metadata": {},
   "outputs": [
    {
     "data": {
      "image/png": "[encoded data removed]",
      "text/plain": [
       "<Figure size 576x432 with 1 Axes>"
      ]
     },
     "metadata": {
      "needs_background": "light"
     },
     "output_type": "display_data"
    }
   ],
   "source": [
    "# Plotting month against the mean %change\n",
    "plt.figure(figsize=(8, 6))\n",
    "monthly_change.plot(kind='bar', color='skyblue')\n",
    "plt.title('Mean % Change per Month')\n",
    "plt.xlabel('Month')\n",
    "plt.ylabel('Mean % Change')\n",
    "plt.xticks(rotation=0)\n",
    "plt.grid(axis='y')\n",
    "plt.show()\n"
   ]
  },
  {
   "cell_type": "code",
   "execution_count": 284,
   "metadata": {},
   "outputs": [],
   "source": [
    "# Analyzing percentage change (%change)\n",
    "df['Fluctuation'] = df['%change'].abs()  # Absolute value for fluctuations\n",
    "threshold_fluctuation = 2.0  # Define your threshold for significant fluctuations\n",
    "significant_fluctuations = df[df['Fluctuation'] > threshold_fluctuation]"
   ]
  },
  {
   "cell_type": "code",
   "execution_count": 285,
   "metadata": {},
   "outputs": [
    {
     "data": {
      "text/html": [
       "<div>\n",
       "<style scoped>\n",
       "    .dataframe tbody tr th:only-of-type {\n",
       "        vertical-align: middle;\n",
       "    }\n",
       "\n",
       "    .dataframe tbody tr th {\n",
       "        vertical-align: top;\n",
       "    }\n",
       "\n",
       "    .dataframe thead th {\n",
       "        text-align: right;\n",
       "    }\n",
       "</style>\n",
       "<table border=\"1\" class=\"dataframe\">\n",
       "  <thead>\n",
       "    <tr style=\"text-align: right;\">\n",
       "      <th></th>\n",
       "      <th>Date</th>\n",
       "      <th>%change</th>\n",
       "    </tr>\n",
       "  </thead>\n",
       "  <tbody>\n",
       "    <tr>\n",
       "      <th>0</th>\n",
       "      <td>2023-12-21</td>\n",
       "      <td>-7.26</td>\n",
       "    </tr>\n",
       "    <tr>\n",
       "      <th>1</th>\n",
       "      <td>2023-12-20</td>\n",
       "      <td>7.83</td>\n",
       "    </tr>\n",
       "    <tr>\n",
       "      <th>2</th>\n",
       "      <td>2023-12-19</td>\n",
       "      <td>10.00</td>\n",
       "    </tr>\n",
       "    <tr>\n",
       "      <th>4</th>\n",
       "      <td>2023-12-14</td>\n",
       "      <td>-2.75</td>\n",
       "    </tr>\n",
       "    <tr>\n",
       "      <th>5</th>\n",
       "      <td>2023-12-13</td>\n",
       "      <td>4.42</td>\n",
       "    </tr>\n",
       "    <tr>\n",
       "      <th>...</th>\n",
       "      <td>...</td>\n",
       "      <td>...</td>\n",
       "    </tr>\n",
       "    <tr>\n",
       "      <th>765</th>\n",
       "      <td>2020-09-07</td>\n",
       "      <td>9.91</td>\n",
       "    </tr>\n",
       "    <tr>\n",
       "      <th>766</th>\n",
       "      <td>2020-09-06</td>\n",
       "      <td>9.90</td>\n",
       "    </tr>\n",
       "    <tr>\n",
       "      <th>767</th>\n",
       "      <td>2020-09-03</td>\n",
       "      <td>9.92</td>\n",
       "    </tr>\n",
       "    <tr>\n",
       "      <th>768</th>\n",
       "      <td>2020-09-02</td>\n",
       "      <td>9.97</td>\n",
       "    </tr>\n",
       "    <tr>\n",
       "      <th>769</th>\n",
       "      <td>2020-08-31</td>\n",
       "      <td>9.94</td>\n",
       "    </tr>\n",
       "  </tbody>\n",
       "</table>\n",
       "<p>259 rows × 2 columns</p>\n",
       "</div>"
      ],
      "text/plain": [
       "          Date  %change\n",
       "0   2023-12-21    -7.26\n",
       "1   2023-12-20     7.83\n",
       "2   2023-12-19    10.00\n",
       "4   2023-12-14    -2.75\n",
       "5   2023-12-13     4.42\n",
       "..         ...      ...\n",
       "765 2020-09-07     9.91\n",
       "766 2020-09-06     9.90\n",
       "767 2020-09-03     9.92\n",
       "768 2020-09-02     9.97\n",
       "769 2020-08-31     9.94\n",
       "\n",
       "[259 rows x 2 columns]"
      ]
     },
     "execution_count": 285,
     "metadata": {},
     "output_type": "execute_result"
    }
   ],
   "source": [
    "df[\"Fluctuation\"] = df['%change']\n",
    "threshold_fluctuation = 2.0\n",
    "significant_fluctuation = df[df['Fluctuation']> 2]\n",
    "significant_fluctuations[['Date', '%change']]\n"
   ]
  },
  {
   "cell_type": "code",
   "execution_count": 286,
   "metadata": {},
   "outputs": [
    {
     "name": "stdout",
     "output_type": "stream",
     "text": [
      "Periods of significant fluctuations:\n",
      "         Date  Fluctuation\n",
      "0  2023-12-21         7.26\n",
      "1  2023-12-20         7.83\n",
      "2  2023-12-19        10.00\n",
      "4  2023-12-14         2.75\n",
      "5  2023-12-13         4.42\n",
      "7  2023-12-11         5.99\n",
      "10 2023-12-06         2.79\n",
      "11 2023-12-05         8.81\n",
      "13 2023-12-03         2.33\n",
      "19 2023-11-23         2.99\n",
      "22 2023-11-20         2.12\n",
      "25 2023-11-07         3.90\n",
      "26 2023-11-06         2.03\n",
      "29 2023-11-01         3.44\n",
      "35 2023-10-12         4.49\n",
      "40 2023-10-03         3.95\n",
      "42 2023-10-01         4.72\n",
      "44 2023-09-25         2.33\n",
      "45 2023-09-24         3.52\n",
      "46 2023-09-21         2.61\n"
     ]
    }
   ],
   "source": [
    "print(\"Periods of significant fluctuations:\")\n",
    "print(significant_fluctuations[['Date', 'Fluctuation']].head(20))"
   ]
  },
  {
   "cell_type": "code",
   "execution_count": 287,
   "metadata": {},
   "outputs": [
    {
     "name": "stdout",
     "output_type": "stream",
     "text": [
      "Maximum price:  2761.0\n",
      "Minimum price:  610.0\n",
      "Mean price:  1352.3557142857144\n",
      "Median price:  1121.0\n",
      "Standard Deviation of price:  590.6708480101427\n",
      "0    792.0\n",
      "1    854.0\n",
      "2    792.0\n",
      "3    675.0\n",
      "4    688.5\n",
      "5    708.0\n",
      "6    678.0\n",
      "7    664.9\n",
      "8    627.3\n",
      "9    615.0\n",
      "Name: LTP, dtype: float64\n"
     ]
    },
    {
     "name": "stderr",
     "output_type": "stream",
     "text": [
      "C:\\Users\\baral\\AppData\\Local\\Temp\\ipykernel_10956\\2351986036.py:15: UserWarning: \n",
      "\n",
      "`distplot` is a deprecated function and will be removed in seaborn v0.14.0.\n",
      "\n",
      "Please adapt your code to use either `displot` (a figure-level function with\n",
      "similar flexibility) or `histplot` (an axes-level function for histograms).\n",
      "\n",
      "For a guide to updating your code to use the new functions, please see\n",
      "https://gist.github.com/mwaskom/de44147ed2974457ad6372750bbe5751\n",
      "\n",
      "  sns.distplot(df['LTP'], color='skyblue')\n"
     ]
    },
    {
     "data": {
      "image/png": "[encoded data removed]",
      "text/plain": [
       "<Figure size 576x432 with 1 Axes>"
      ]
     },
     "metadata": {
      "needs_background": "light"
     },
     "output_type": "display_data"
    }
   ],
   "source": [
    "maximum_price = df['LTP'].max()\n",
    "minimum_price = df['LTP'].min()\n",
    "mean_price = df['LTP'].mean()\n",
    "median_price = df['LTP'].median()\n",
    "std_price = df['LTP'].std()\n",
    "\n",
    "print(\"Maximum price: \", maximum_price)\n",
    "print(\"Minimum price: \", minimum_price)\n",
    "print(\"Mean price: \", mean_price)\n",
    "print(\"Median price: \", median_price)\n",
    "print(\"Standard Deviation of price: \", std_price)\n",
    "print(df['LTP'].head(10))\n",
    "# Plotting the distribution of the LTP\n",
    "plt.figure(figsize=(8, 6))\n",
    "sns.distplot(df['LTP'], color='skyblue')\n",
    "plt.title('Distribution of LTP')\n",
    "plt.xlabel('LTP')\n",
    "plt.ylabel('Density')\n",
    "plt.show()\n",
    "\n"
   ]
  },
  {
   "cell_type": "code",
   "execution_count": 288,
   "metadata": {},
   "outputs": [
    {
     "data": {
      "image/png": "[encoded data removed]",
      "text/plain": [
       "<Figure size 576x432 with 1 Axes>"
      ]
     },
     "metadata": {
      "needs_background": "light"
     },
     "output_type": "display_data"
    }
   ],
   "source": [
    "plt.figure(figsize=(8, 6))\n",
    "plt.hist(df['LTP'], bins=50, color='skyblue', edgecolor='black')\n",
    "plt.title('Distribution of Last Traded Price')\n",
    "plt.xlabel('Last Traded Price')\n",
    "plt.ylabel('Frequency')\n",
    "plt.grid(axis='y')\n",
    "plt.show()\n"
   ]
  },
  {
   "cell_type": "code",
   "execution_count": 289,
   "metadata": {},
   "outputs": [
    {
     "data": {
      "image/png": "[encoded data removed]",
      "text/plain": [
       "<Figure size 576x432 with 1 Axes>"
      ]
     },
     "metadata": {
      "needs_background": "light"
     },
     "output_type": "display_data"
    }
   ],
   "source": [
    "import seaborn as sns\n",
    "\n",
    "# Plotting a boxplot to visualize the distribution and outliers of 'LTP' (Last Traded Price)\n",
    "plt.figure(figsize=(8, 6))\n",
    "sns.boxplot(y=df['LTP'], color='lightblue')\n",
    "plt.title('Boxplot of Last Traded Price')\n",
    "plt.ylabel('Last Traded Price')\n",
    "plt.grid(axis='y')\n",
    "plt.show()\n"
   ]
  },
  {
   "cell_type": "code",
   "execution_count": 290,
   "metadata": {},
   "outputs": [],
   "source": [
    "from statsmodels.tsa.arima.model import ARIMA\n",
    "reverse_ltp = df['LTP'].iloc[::-1]\n",
    "model = ARIMA(reverse_ltp, order=(5, 1, 0))\n",
    "model_fit = model.fit()\n"
   ]
  },
  {
   "cell_type": "code",
   "execution_count": 291,
   "metadata": {},
   "outputs": [],
   "source": [
    "forecast = model_fit.forecast(steps=10)"
   ]
  },
  {
   "cell_type": "code",
   "execution_count": 292,
   "metadata": {},
   "outputs": [
    {
     "data": {
      "text/plain": [
       "(-1     792.437671\n",
       " -2     789.639208\n",
       " -3     774.325669\n",
       " -4     768.019581\n",
       " -5     774.136930\n",
       " -6     774.349097\n",
       " -7     775.207453\n",
       " -8     777.190081\n",
       " -9     777.880200\n",
       " -10    777.288279\n",
       " Name: predicted_mean, dtype: float64,\n",
       " 0    792.0\n",
       " Name: LTP, dtype: float64)"
      ]
     },
     "execution_count": 292,
     "metadata": {},
     "output_type": "execute_result"
    }
   ],
   "source": [
    "forecast, df[\"LTP\"].head(1)"
   ]
  }
 ],
 "metadata": {
  "kernelspec": {
   "display_name": "Python 3",
   "language": "python",
   "name": "python3"
  },
  "language_info": {
   "codemirror_mode": {
    "name": "ipython",
    "version": 3
   },
   "file_extension": ".py",
   "mimetype": "text/x-python",
   "name": "python",
   "nbconvert_exporter": "python",
   "pygments_lexer": "ipython3",
   "version": "3.9.5"
  }
 },
 "nbformat": 4,
 "nbformat_minor": 2
}
